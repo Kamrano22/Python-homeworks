{
 "cells": [
  {
   "cell_type": "code",
   "execution_count": 25,
   "id": "9ff35d85",
   "metadata": {},
   "outputs": [
    {
     "name": "stdout",
     "output_type": "stream",
     "text": [
      "red\n",
      "50\n",
      "60\n",
      "green\n"
     ]
    }
   ],
   "source": [
    "class Ball:\n",
    "    def __init__(self, size, weight, color):\n",
    "        self.size = size\n",
    "        self.weight = weight\n",
    "        self.color = color\n",
    "\n",
    "# Create instances of the Ball class\n",
    "Ball1 = Ball(13, 50, 'red')\n",
    "Ball2 = Ball(14, 60, 'green')\n",
    "\n",
    "# Access attributes\n",
    "print(Ball1.color)   # Output: red\n",
    "print(Ball1.weight)\n",
    "\n",
    "\n",
    "print(Ball2.weight)\n",
    "print(Ball2.color)\n"
   ]
  },
  {
   "cell_type": "code",
   "execution_count": 30,
   "id": "5af10d80",
   "metadata": {},
   "outputs": [
    {
     "name": "stdout",
     "output_type": "stream",
     "text": [
      "Kamran's ID is 23\n"
     ]
    }
   ],
   "source": [
    "class Person:\n",
    "    def __init__(self, name, person_id, age):\n",
    "        self.name = name\n",
    "        self.id = person_id  # fix: use person_id\n",
    "        self.age = age\n",
    "\n",
    "    def display(self):\n",
    "        print(f\"{self.name}'s ID is {self.id}\")\n",
    "\n",
    "# Create instances (outside the class)\n",
    "P1 = Person('Kamran', 23, 22)\n",
    "p2 = Person('Muhammad', 21, 20)\n",
    "\n",
    "# Call method\n",
    "P1.display() \n",
    "\n",
    "\n",
    "\n",
    "    "
   ]
  },
  {
   "cell_type": "code",
   "execution_count": 32,
   "id": "597dcf9a",
   "metadata": {},
   "outputs": [
    {
     "name": "stdout",
     "output_type": "stream",
     "text": [
      "John's id is 1\n",
      "Emp class called\n"
     ]
    }
   ],
   "source": [
    "class Person:\n",
    "    def __init__(self, name, person_id, age):\n",
    "        self.name = name\n",
    "        self.id = person_id\n",
    "        self.age = age\n",
    "\n",
    "    def display(self):\n",
    "        print(f\"{self.name}'s id is {self.id}\")\n",
    "\n",
    "class Employee(Person):\n",
    "    def Print(self):\n",
    "        print('Emp class called')\n",
    "\n",
    "empl = Employee('John', 1, 23)\n",
    "empl.display()      # inherited from Person\n",
    "empl.Print()"
   ]
  },
  {
   "cell_type": "code",
   "execution_count": 36,
   "id": "575fa68d",
   "metadata": {},
   "outputs": [
    {
     "name": "stdout",
     "output_type": "stream",
     "text": [
      "200\n",
      "engineer\n",
      "True\n",
      "Bilol's ID is 23\n"
     ]
    }
   ],
   "source": [
    "class Person:\n",
    "    def __init__(self, name, id):\n",
    "        self.name = name\n",
    "        self.id = id\n",
    "\n",
    "    def display(self):\n",
    "        print(f\"{self.name}'s ID is {self.id}\")\n",
    "\n",
    "\n",
    "class Employee(Person):\n",
    "    def __init__(self, name, id, salary, post):\n",
    "        # Call the parent constructor\n",
    "        super().__init__(name, id)  # preferred way over Person.__init__\n",
    "        self.salary = salary\n",
    "        self.post = post\n",
    "\n",
    "    def isEmployee(self):\n",
    "        return True\n",
    "\n",
    "\n",
    "# Create an object of Employee\n",
    "emp = Employee('Bilol', 23, 200, 'engineer')\n",
    "\n",
    "# Accessing attributes\n",
    "print(emp.salary)         # Output: 200\n",
    "print(emp.post)           # Output: engineer\n",
    "print(emp.isEmployee())   # Output: True\n",
    "emp.display() "
   ]
  },
  {
   "cell_type": "code",
   "execution_count": 39,
   "id": "4ac669f2",
   "metadata": {},
   "outputs": [
    {
     "name": "stdout",
     "output_type": "stream",
     "text": [
      "Saodat-Asri\n",
      "Ismail Yildirim\n",
      "Mukashafatul-Qulub\n",
      "Orhan\n"
     ]
    }
   ],
   "source": [
    "class Book:\n",
    "    font_size = 9\n",
    "    page_width = 15\n",
    "\n",
    "    def __init__(self, name, writer, length):\n",
    "        self.name = name\n",
    "        self.writer = writer\n",
    "        self.length = length\n",
    "\n",
    "# Create instances of the Book class\n",
    "Book1 = Book('Saodat-Asri', 'Ismail Yildirim', 1200)\n",
    "Book2 = Book('Mukashafatul-Qulub', 'Orhan', 450)\n",
    "\n",
    "# Print the book details\n",
    "print(Book1.name)\n",
    "print(Book1.writer)\n",
    "print(Book2.name)\n",
    "print(Book2.writer)\n",
    "\n",
    "\n",
    "        "
   ]
  }
 ],
 "metadata": {
  "kernelspec": {
   "display_name": "Python 3",
   "language": "python",
   "name": "python3"
  },
  "language_info": {
   "codemirror_mode": {
    "name": "ipython",
    "version": 3
   },
   "file_extension": ".py",
   "mimetype": "text/x-python",
   "name": "python",
   "nbconvert_exporter": "python",
   "pygments_lexer": "ipython3",
   "version": "3.13.1"
  }
 },
 "nbformat": 4,
 "nbformat_minor": 5
}
