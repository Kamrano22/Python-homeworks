{
 "cells": [
  {
   "cell_type": "code",
   "execution_count": null,
   "id": "39bd2a83",
   "metadata": {},
   "outputs": [
    {
     "data": {
      "text/plain": [
       "81"
      ]
     },
     "execution_count": 6,
     "metadata": {},
     "output_type": "execute_result"
    }
   ],
   "source": [
    "s=9\n",
    "perimeter=4*s\n",
    "\n",
    "4*s\n",
    "s**2"
   ]
  },
  {
   "cell_type": "code",
   "execution_count": 9,
   "id": "bf6a621f",
   "metadata": {},
   "outputs": [
    {
     "data": {
      "text/plain": [
       "14"
      ]
     },
     "execution_count": 9,
     "metadata": {},
     "output_type": "execute_result"
    }
   ],
   "source": [
    "d=7\n",
    "length=2*d\n",
    "2*d"
   ]
  },
  {
   "cell_type": "code",
   "execution_count": 12,
   "id": "30434d18",
   "metadata": {},
   "outputs": [
    {
     "data": {
      "text/plain": [
       "12.5"
      ]
     },
     "execution_count": 12,
     "metadata": {},
     "output_type": "execute_result"
    }
   ],
   "source": [
    "numbers=[10,15]\n",
    "mean=sum(numbers)/len(numbers)\n",
    "sum(numbers)/len(numbers)\n"
   ]
  },
  {
   "cell_type": "code",
   "execution_count": 19,
   "id": "ee6d3f3e",
   "metadata": {},
   "outputs": [
    {
     "data": {
      "text/plain": [
       "121"
      ]
     },
     "execution_count": 19,
     "metadata": {},
     "output_type": "execute_result"
    }
   ],
   "source": [
    "numbers=[12,11]\n",
    "sum(numbers)\n",
    "\n",
    "a=12\n",
    "b=11\n",
    "a*b\n",
    "a**2\n",
    "b**2"
   ]
  }
 ],
 "metadata": {
  "kernelspec": {
   "display_name": "Python 3",
   "language": "python",
   "name": "python3"
  },
  "language_info": {
   "codemirror_mode": {
    "name": "ipython",
    "version": 3
   },
   "file_extension": ".py",
   "mimetype": "text/x-python",
   "name": "python",
   "nbconvert_exporter": "python",
   "pygments_lexer": "ipython3",
   "version": "3.13.1"
  }
 },
 "nbformat": 4,
 "nbformat_minor": 5
}
