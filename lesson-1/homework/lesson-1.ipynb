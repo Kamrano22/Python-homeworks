{
 "cells": [
  {
   "cell_type": "code",
   "execution_count": 66,
   "id": "39bd2a83",
   "metadata": {},
   "outputs": [
    {
     "data": {
      "text/plain": [
       "81"
      ]
     },
     "execution_count": 66,
     "metadata": {},
     "output_type": "execute_result"
    }
   ],
   "source": [
    "s=9\n",
    "perimeter=4*s\n",
    "\n",
    "4*s\n",
    "s**2"
   ]
  },
  {
   "cell_type": "code",
   "execution_count": 67,
   "id": "bf6a621f",
   "metadata": {},
   "outputs": [
    {
     "data": {
      "text/plain": [
       "14"
      ]
     },
     "execution_count": 67,
     "metadata": {},
     "output_type": "execute_result"
    }
   ],
   "source": [
    "d=7\n",
    "length=2*d\n",
    "2*d"
   ]
  },
  {
   "cell_type": "code",
   "execution_count": 68,
   "id": "30434d18",
   "metadata": {},
   "outputs": [
    {
     "data": {
      "text/plain": [
       "12.5"
      ]
     },
     "execution_count": 68,
     "metadata": {},
     "output_type": "execute_result"
    }
   ],
   "source": [
    "numbers=[10,15]\n",
    "mean=sum(numbers)/len(numbers)\n",
    "sum(numbers)/len(numbers)\n"
   ]
  },
  {
   "cell_type": "code",
   "execution_count": 69,
   "id": "ee6d3f3e",
   "metadata": {},
   "outputs": [
    {
     "data": {
      "text/plain": [
       "121"
      ]
     },
     "execution_count": 69,
     "metadata": {},
     "output_type": "execute_result"
    }
   ],
   "source": [
    "numbers=[12,11]\n",
    "sum(numbers)\n",
    "\n",
    "a=12\n",
    "b=11\n",
    "a*b\n",
    "a**2\n",
    "b**2"
   ]
  },
  {
   "cell_type": "code",
   "execution_count": 70,
   "id": "4cfde4cf",
   "metadata": {},
   "outputs": [
    {
     "data": {
      "text/plain": [
       "'tandir'"
      ]
     },
     "execution_count": 70,
     "metadata": {},
     "output_type": "execute_result"
    }
   ],
   "source": [
    "\"Hello Kamran\".lower()\n",
    "\n",
    "\n",
    "\"kamran matnazarov\".upper()\n",
    "\n",
    "\"XUSNORA\".lower()\n",
    "\n",
    "\"xusnora qutlimuratova\".upper()\n",
    "\n",
    "\"xusnora\".capitalize()\n",
    "\n",
    "\n",
    "\"TANDIR\".swapcase()"
   ]
  },
  {
   "cell_type": "code",
   "execution_count": 71,
   "id": "23ff250d",
   "metadata": {},
   "outputs": [
    {
     "data": {
      "text/plain": [
       "' Aziz'"
      ]
     },
     "execution_count": 71,
     "metadata": {},
     "output_type": "execute_result"
    }
   ],
   "source": [
    "text=\"Muhammad, ibn, Abdulloh\"\n",
    "text.split()\n",
    "\n",
    "text.split(',')[0]\n",
    "\n",
    "\n",
    "text=\"Kamran, Aziz, Mirali, Aziz\"\n",
    "text.split(',')[3]"
   ]
  },
  {
   "cell_type": "code",
   "execution_count": 72,
   "id": "5cf3a9a8",
   "metadata": {},
   "outputs": [
    {
     "data": {
      "text/plain": [
       "'Nur - Furniture'"
      ]
     },
     "execution_count": 72,
     "metadata": {},
     "output_type": "execute_result"
    }
   ],
   "source": [
    "list=[\"Nur\",\"Furniture\"]\n",
    "\" - \".join(list)"
   ]
  },
  {
   "cell_type": "code",
   "execution_count": 73,
   "id": "03c18727",
   "metadata": {},
   "outputs": [
    {
     "name": "stdout",
     "output_type": "stream",
     "text": [
      "Original1: [1, [91, 3], 4]\n",
      "Shallow Copy: [1, [91, 3], 4]\n"
     ]
    }
   ],
   "source": [
    "import copy\n",
    "original1=[1,[2,3],4]\n",
    "\n",
    "shallow_copy=copy.copy(original1)\n",
    "shallow_copy[1][0]=91\n",
    "\n",
    "print(\"Original1:\",original1)\n",
    "print(\"Shallow Copy:\",shallow_copy)\n",
    "\n"
   ]
  },
  {
   "cell_type": "code",
   "execution_count": 84,
   "id": "215767bc",
   "metadata": {},
   "outputs": [
    {
     "name": "stdout",
     "output_type": "stream",
     "text": [
      "original3: [2, [3, 4], 5]\n",
      "deep_copy: 99\n",
      "original3: [2, [3, 4], 5]\n",
      "deep_copy: [2, [99, 4], 5]\n"
     ]
    }
   ],
   "source": [
    "import copy\n",
    "original3=[2,[3,4],5]\n",
    "deep_copy=copy.deepcopy(original3)\n",
    "\n",
    "deep_copy=[1][0]=99\n",
    "\n",
    "print(\"original3:\",original3)\n",
    "print(\"deep_copy:\",deep_copy)\n",
    "\n",
    "original3 = [2, [3, 4], 5]\n",
    "deep_copy = copy.deepcopy(original3)\n",
    "\n",
    "# Correct way to modify the deep copy:\n",
    "deep_copy[1][0] = 99  # This modifies the nested list in the copy only\n",
    "\n",
    "print(\"original3:\", original3)  # Will remain unchanged\n",
    "print(\"deep_copy:\", deep_copy)\n",
    "\n",
    "\n",
    "\n"
   ]
  }
 ],
 "metadata": {
  "kernelspec": {
   "display_name": "Python 3",
   "language": "python",
   "name": "python3"
  },
  "language_info": {
   "codemirror_mode": {
    "name": "ipython",
    "version": 3
   },
   "file_extension": ".py",
   "mimetype": "text/x-python",
   "name": "python",
   "nbconvert_exporter": "python",
   "pygments_lexer": "ipython3",
   "version": "3.13.1"
  }
 },
 "nbformat": 4,
 "nbformat_minor": 5
}
