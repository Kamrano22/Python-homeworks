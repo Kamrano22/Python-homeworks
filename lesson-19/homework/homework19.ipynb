{
 "cells": [
  {
   "cell_type": "code",
   "execution_count": 53,
   "id": "fb46d386",
   "metadata": {},
   "outputs": [
    {
     "name": "stdout",
     "output_type": "stream",
     "text": [
      "Highest sales occurred on Revenue    2023-01-07\n",
      "dtype: object with total revenue Revenue    15150\n",
      "dtype: int64\n"
     ]
    }
   ],
   "source": [
    "import pandas as pd\n",
    "\n",
    "sales = pd.read_csv(r'C:\\Users\\munnaboy\\Downloads\\sales_data.csv')\n",
    "\n",
    "sales\n",
    "\n",
    "grouped=sales.groupby(\"Category\")\n",
    "\n",
    "(\n",
    "    sales\n",
    "    .groupby(\"Category\")\n",
    "    .agg({'Quantity':'sum'})\n",
    ")\n",
    "\n",
    "\n",
    "(\n",
    "sales\n",
    ".groupby(\"Category\")\n",
    ".agg({'Price':'mean'})\n",
    ")\n",
    "\n",
    "(\n",
    "sales\n",
    ".groupby(\"Category\")\n",
    ".agg({\"Quantity\":'max'})\n",
    ")\n",
    "\n",
    "\n",
    "criteria_a = sales.groupby([\"Category\",\"Product\"])[\"Quantity\"].max()\n",
    "criteria_a\n",
    "\n",
    "\n",
    "\n",
    "\n",
    "sales[\"Revenue\"] = sales[\"Quantity\"] * sales[\"Price\"]\n",
    "\n",
    "daily_revenue = sales.groupby(\"Date\").agg({\"Revenue\": \"sum\"})\n",
    "highest_sales_date = daily_revenue.idxmax()     \n",
    "highest_sales_amount = daily_revenue.max()\n",
    "\n",
    "print(f\"Highest sales occurred on {highest_sales_date} with total revenue {highest_sales_amount}\")\n",
    "\n",
    "\n",
    "\n",
    "\n",
    "\n",
    "\n"
   ]
  },
  {
   "cell_type": "code",
   "execution_count": 88,
   "id": "aa30d73f",
   "metadata": {},
   "outputs": [
    {
     "name": "stdout",
     "output_type": "stream",
     "text": [
      "                   Product  Quantity  Revenue\n",
      "0                 Backpack         4      160\n",
      "1                  Blender         4      240\n",
      "2           Blu-ray Player         2      140\n",
      "3        Bluetooth Headset         2      100\n",
      "4                Bookshelf         2      160\n",
      "6             Casual Shoes         3       90\n",
      "7             Coffee Maker         3      150\n",
      "8             Coffee Table         3      300\n",
      "9            Comforter Set         3      135\n",
      "10            Cookware Set         1       60\n",
      "11            Denim Jacket         2       90\n",
      "12             Denim Skirt         1       25\n",
      "13              Desk Chair         2      150\n",
      "14               Desk Lamp         2       50\n",
      "16                   Drone         2      600\n",
      "17     External Hard Drive         3      240\n",
      "18         Fitness Tracker         3      180\n",
      "20            Formal Shoes         3      180\n",
      "21          Gaming Console         3     1200\n",
      "22              Headphones         1      150\n",
      "23                  Hoodie         2       50\n",
      "24                   Jeans         3       90\n",
      "25           Kitchen Scale         1       20\n",
      "26                  Laptop         2     1600\n",
      "27  Point-and-Shoot Camera         2      500\n",
      "28               Projector         2      400\n",
      "29                Smart TV         3     3000\n",
      "31                Sneakers         3      150\n",
      "33              Steam Iron         3       90\n",
      "34            Summer Dress         3       90\n",
      "36                 Sweater         3      105\n",
      "37              Sweatshirt         2       70\n",
      "38                  Tablet         2      600\n",
      "39                 Toaster         3       75\n",
      "40        Wireless Charger         2       70\n",
      "42          Wireless Mouse         3       75\n",
      "43        Wireless Speaker         2      140\n"
     ]
    },
    {
     "name": "stderr",
     "output_type": "stream",
     "text": [
      "C:\\Users\\munnaboy\\AppData\\Local\\Temp\\ipykernel_19624\\210150831.py:10: FutureWarning: Operation between non boolean Series with different indexes will no longer return a boolean result in a future version. Cast both Series to object type to maintain the prior behavior.\n",
      "  criteria_all = criteria_a & criteria_b\n"
     ]
    }
   ],
   "source": [
    "import pandas as pd\n",
    "\n",
    "customers = pd.read_csv(r\"C:\\Users\\munnaboy\\Downloads\\customer_orders.csv\")\n",
    "\n",
    "\n",
    "\n",
    "criteria_a = customers[\"CustomerID\"].value_counts()\n",
    "criteria_b = criteria_a[criteria_a > 20]\n",
    "\n",
    "criteria_all = criteria_a & criteria_b\n",
    "\n",
    "criteria_all\n",
    "\n",
    "avg_price = customers.groupby(\"CustomerID\")[\"Price\"].mean()\n",
    "high_value_customers = avg_price[avg_price > 120]  \n",
    "\n",
    "high_value_customers\n",
    "\n",
    "\n",
    "\n",
    "customers[\"Revenue\"] = customers[\"Quantity\"] * customers[\"Price\"]\n",
    "\n",
    "criteria = customers.groupby(\"Product\").agg({\n",
    "    \"Quantity\": \"sum\",\n",
    "    \"Revenue\": \"sum\"\n",
    "}).reset_index()\n",
    "\n",
    "criteria_final = criteria[criteria[\"Quantity\"] < 5]\n",
    "\n",
    "print(criteria_final)\n",
    "\n",
    "\n"
   ]
  }
 ],
 "metadata": {
  "kernelspec": {
   "display_name": "Python 3",
   "language": "python",
   "name": "python3"
  },
  "language_info": {
   "codemirror_mode": {
    "name": "ipython",
    "version": 3
   },
   "file_extension": ".py",
   "mimetype": "text/x-python",
   "name": "python",
   "nbconvert_exporter": "python",
   "pygments_lexer": "ipython3",
   "version": "3.13.1"
  }
 },
 "nbformat": 4,
 "nbformat_minor": 5
}
