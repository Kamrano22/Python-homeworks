{
 "cells": [
  {
   "cell_type": "code",
   "execution_count": 2,
   "id": "6a09f9c8",
   "metadata": {},
   "outputs": [
    {
     "name": "stdout",
     "output_type": "stream",
     "text": [
      "Prime numbers between 1 and 100 are:\n",
      "[2, 3, 5, 7, 11, 13, 17, 19, 23, 29, 31, 37, 41, 43, 47, 53, 59, 61, 67, 71, 73, 79, 83, 89, 97]\n"
     ]
    }
   ],
   "source": [
    "import threading\n",
    "\n",
    "# Function to check if a number is prime\n",
    "def is_prime(n):\n",
    "    if n <= 1:\n",
    "        return False\n",
    "    if n == 2:\n",
    "        return True\n",
    "    if n % 2 == 0:\n",
    "        return False\n",
    "    for i in range(3, int(n**0.5)+1, 2):\n",
    "        if n % i == 0:\n",
    "            return False\n",
    "    return True\n",
    "\n",
    "# Thread worker function\n",
    "def find_primes_in_range(start, end, result_list):\n",
    "    for num in range(start, end):\n",
    "        if is_prime(num):\n",
    "            result_list.append(num)\n",
    "\n",
    "# Main function to divide range and start threads\n",
    "def find_primes_multithreaded(start, end, num_threads=4):\n",
    "    threads = []\n",
    "    result = []\n",
    "    result_lock = threading.Lock()  # to avoid race conditions\n",
    "\n",
    "    # Shared safe list appender\n",
    "    def thread_task(start, end):\n",
    "        local_primes = []\n",
    "        find_primes_in_range(start, end, local_primes)\n",
    "        with result_lock:\n",
    "            result.extend(local_primes)\n",
    "\n",
    "    # Divide range among threads\n",
    "    step = (end - start) // num_threads\n",
    "    for i in range(num_threads):\n",
    "        range_start = start + i * step\n",
    "        range_end = start + (i + 1) * step if i != num_threads - 1 else end\n",
    "        t = threading.Thread(target=thread_task, args=(range_start, range_end))\n",
    "        threads.append(t)\n",
    "        t.start()\n",
    "\n",
    "    for t in threads:\n",
    "        t.join()\n",
    "\n",
    "    result.sort()\n",
    "    return result\n",
    "\n",
    "# Example usage\n",
    "if __name__ == \"__main__\":\n",
    "    start = 1\n",
    "    end = 100\n",
    "    primes = find_primes_multithreaded(start, end, num_threads=4)\n",
    "    print(\"Prime numbers between\", start, \"and\", end, \"are:\")\n",
    "    print(primes)\n"
   ]
  },
  {
   "cell_type": "code",
   "execution_count": 3,
   "id": "af744c67",
   "metadata": {},
   "outputs": [
    {
     "name": "stdout",
     "output_type": "stream",
     "text": [
      "File not found: large_text.txt\n"
     ]
    }
   ],
   "source": [
    "import threading\n",
    "from collections import Counter\n",
    "import os\n",
    "\n",
    "def count_words(lines, counter, lock):\n",
    "    local_counter = Counter()\n",
    "    for line in lines:\n",
    "        words = line.strip().lower().split()\n",
    "        local_counter.update(words)\n",
    "    with lock:\n",
    "        counter.update(local_counter)\n",
    "\n",
    "def threaded_word_count(file_path, num_threads=4):\n",
    "    with open(file_path, 'r', encoding='utf-8') as file:\n",
    "        lines = file.readlines()\n",
    "\n",
    "    total_lines = len(lines)\n",
    "    chunk_size = total_lines // num_threads\n",
    "    threads = []\n",
    "    counter = Counter()\n",
    "    lock = threading.Lock()\n",
    "\n",
    "    for i in range(num_threads):\n",
    "        start = i * chunk_size\n",
    "        end = None if i == num_threads - 1 else (i + 1) * chunk_size\n",
    "        thread_lines = lines[start:end]\n",
    "        t = threading.Thread(target=count_words, args=(thread_lines, counter, lock))\n",
    "        threads.append(t)\n",
    "        t.start()\n",
    "\n",
    "    for t in threads:\n",
    "        t.join()\n",
    "\n",
    "    return counter\n",
    "\n",
    "if __name__ == \"__main__\":\n",
    "    file_path = 'large_text.txt'  \n",
    "    if os.path.exists(file_path):\n",
    "        word_counts = threaded_word_count(file_path, num_threads=4)\n",
    "        for word, count in word_counts.most_common(10):\n",
    "            print(f\"{word}: {count}\")\n",
    "    else:\n",
    "        print(f\"File not found: {file_path}\")\n"
   ]
  }
 ],
 "metadata": {
  "kernelspec": {
   "display_name": "Python 3",
   "language": "python",
   "name": "python3"
  },
  "language_info": {
   "codemirror_mode": {
    "name": "ipython",
    "version": 3
   },
   "file_extension": ".py",
   "mimetype": "text/x-python",
   "name": "python",
   "nbconvert_exporter": "python",
   "pygments_lexer": "ipython3",
   "version": "3.13.1"
  }
 },
 "nbformat": 4,
 "nbformat_minor": 5
}
