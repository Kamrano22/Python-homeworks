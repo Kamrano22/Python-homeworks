{
 "cells": [
  {
   "cell_type": "code",
   "execution_count": 12,
   "id": "4c1c056a",
   "metadata": {},
   "outputs": [
    {
     "name": "stdout",
     "output_type": "stream",
     "text": [
      "hel_lo\n",
      "ass_alom\n",
      "abc_abc_abcd_eabc_defabcdef\n"
     ]
    }
   ],
   "source": [
    "s=\"hello\"\n",
    "modified=s[:3]+\"_\"+s[3:]\n",
    "print(modified)\n",
    "\n",
    "b=\"assalom\"\n",
    "modified1=b[:3]+\"_\"+b[3:]\n",
    "print(modified1)\n",
    "\n",
    "c = \"abcabcabcdeabcdefabcdef\"\n",
    "modified = c[:3] + \"_\" + c[3:6] + \"_\" + c[6:10] + \"_\" + c[10:14] + \"_\" + c[14:]\n",
    "print(modified)\n"
   ]
  },
  {
   "cell_type": "code",
   "execution_count": 15,
   "id": "fa0a5329",
   "metadata": {},
   "outputs": [
    {
     "name": "stdout",
     "output_type": "stream",
     "text": [
      "0\n",
      "1\n",
      "4\n",
      "9\n",
      "16\n"
     ]
    }
   ],
   "source": [
    "n = 5\n",
    "for i in range(5):\n",
    "    print(i ** 2)"
   ]
  },
  {
   "cell_type": "code",
   "execution_count": 21,
   "id": "e8a804b2",
   "metadata": {},
   "outputs": [
    {
     "name": "stdout",
     "output_type": "stream",
     "text": [
      "1\n",
      "2\n",
      "3\n",
      "4\n",
      "5\n",
      "6\n",
      "7\n",
      "8\n",
      "9\n",
      "10\n"
     ]
    }
   ],
   "source": [
    "i = 1\n",
    "while i <= 10:\n",
    "    print(i)\n",
    "    i += 1\n",
    " \n",
    "\n"
   ]
  },
  {
   "cell_type": "code",
   "execution_count": 47,
   "id": "bf49347e",
   "metadata": {},
   "outputs": [
    {
     "name": "stdout",
     "output_type": "stream",
     "text": [
      "1 \n",
      "1 2 \n",
      "1 2 3 \n",
      "1 2 3 4 \n",
      "1 2 3 4 5 \n"
     ]
    }
   ],
   "source": [
    "line = 1\n",
    "while line <= 5:\n",
    "    num = 1\n",
    "    while num <= line:\n",
    "        print(num, end=\" \")  # print on the same line with space\n",
    "        num += 1\n",
    "    print()  # move to next line\n",
    "    line += 1"
   ]
  },
  {
   "cell_type": "code",
   "execution_count": 26,
   "id": "c1f73f58",
   "metadata": {},
   "outputs": [
    {
     "data": {
      "text/plain": [
       "55"
      ]
     },
     "execution_count": 26,
     "metadata": {},
     "output_type": "execute_result"
    }
   ],
   "source": [
    "number=[1,2,3,4,5,6,7,8,9,10]\n",
    "sum(number)\n"
   ]
  },
  {
   "cell_type": "code",
   "execution_count": 37,
   "id": "a85b8bb9",
   "metadata": {},
   "outputs": [
    {
     "name": "stdout",
     "output_type": "stream",
     "text": [
      "2*1 = 2\n",
      "2*2 = 4\n",
      "2*3 = 6\n",
      "2*4 = 8\n",
      "2*5 = 10\n",
      "2*6 = 12\n",
      "2*7 = 14\n",
      "2*8 = 16\n",
      "2*9 = 18\n",
      "2*10 = 20\n"
     ]
    }
   ],
   "source": [
    "\n",
    "n = 2\n",
    "i = 1\n",
    "while i <= 10:\n",
    "    print(f'{n}*{i} = {n * i}')\n",
    "    i += 1"
   ]
  },
  {
   "cell_type": "code",
   "execution_count": 41,
   "id": "3ac05dca",
   "metadata": {},
   "outputs": [
    {
     "name": "stdout",
     "output_type": "stream",
     "text": [
      "75\n",
      "150\n",
      "145\n"
     ]
    }
   ],
   "source": [
    "numbers = [12, 75, 150, 180, 145, 525, 50]\n",
    "to_print = [75, 150, 145]\n",
    "\n",
    "for num in numbers:\n",
    "    if num in to_print:\n",
    "        print(num)\n"
   ]
  },
  {
   "cell_type": "code",
   "execution_count": 46,
   "id": "1442824d",
   "metadata": {},
   "outputs": [
    {
     "data": {
      "text/plain": [
       "5"
      ]
     },
     "execution_count": 46,
     "metadata": {},
     "output_type": "execute_result"
    }
   ],
   "source": [
    "num=[7,5,8,6,9]\n",
    "len(num)\n"
   ]
  },
  {
   "cell_type": "code",
   "execution_count": 53,
   "id": "6bb88802",
   "metadata": {},
   "outputs": [
    {
     "name": "stdout",
     "output_type": "stream",
     "text": [
      "1 2 3 4 5 \n",
      "1 2 3 4 \n",
      "1 2 3 \n",
      "1 2 \n",
      "1 \n"
     ]
    }
   ],
   "source": [
    "rows = 5\n",
    "while rows >= 1:\n",
    "    num = 1\n",
    "    while num <= rows:\n",
    "        print(num, end=\" \")\n",
    "        num += 1\n",
    "    print()\n",
    "    rows -= 1\n",
    "\n"
   ]
  },
  {
   "cell_type": "code",
   "execution_count": 61,
   "id": "9fa166a3",
   "metadata": {},
   "outputs": [
    {
     "name": "stdout",
     "output_type": "stream",
     "text": [
      "50\n",
      "40\n",
      "30\n",
      "20\n",
      "10\n"
     ]
    }
   ],
   "source": [
    "num = 50\n",
    "while num >= 10:\n",
    "    print(num)\n",
    "    num -= 10"
   ]
  },
  {
   "cell_type": "code",
   "execution_count": 67,
   "id": "684b0258",
   "metadata": {},
   "outputs": [
    {
     "name": "stdout",
     "output_type": "stream",
     "text": [
      "-10\n",
      "-9\n",
      "-8\n",
      "-7\n",
      "-6\n",
      "-5\n",
      "-4\n",
      "-3\n",
      "-2\n",
      "-1\n"
     ]
    }
   ],
   "source": [
    "num1=-10\n",
    "for i in range(-10,0):\n",
    "    print(num1)\n",
    "    num1+=1"
   ]
  },
  {
   "cell_type": "code",
   "execution_count": 78,
   "id": "f91e90d0",
   "metadata": {},
   "outputs": [
    {
     "name": "stdout",
     "output_type": "stream",
     "text": [
      "0\n",
      "1\n",
      "2\n",
      "3\n",
      "4\n",
      "Done\n"
     ]
    }
   ],
   "source": [
    "for i in range(5):\n",
    "    print(i)\n",
    "print(\"Done\")"
   ]
  },
  {
   "cell_type": "code",
   "execution_count": 80,
   "id": "b12e5b36",
   "metadata": {},
   "outputs": [
    {
     "name": "stdout",
     "output_type": "stream",
     "text": [
      "25\n",
      "26\n",
      "27\n",
      "28\n",
      "29\n",
      "30\n",
      "31\n",
      "32\n",
      "33\n",
      "34\n",
      "35\n",
      "36\n",
      "37\n",
      "38\n",
      "39\n",
      "40\n",
      "41\n",
      "42\n",
      "43\n",
      "44\n",
      "45\n",
      "46\n",
      "47\n",
      "48\n",
      "49\n"
     ]
    }
   ],
   "source": [
    "for i in range(25,50):\n",
    "    print(i)"
   ]
  },
  {
   "cell_type": "code",
   "execution_count": 82,
   "id": "909ec1ea",
   "metadata": {},
   "outputs": [
    {
     "name": "stdout",
     "output_type": "stream",
     "text": [
      "{1, 3, 4}\n"
     ]
    }
   ],
   "source": [
    "list1=[1,1,2]\n",
    "list2=[2,3,4]\n",
    "\n",
    "set1=set(list1)\n",
    "set2=set(list2)\n",
    "diff=set1^set2\n",
    "print(diff)"
   ]
  },
  {
   "cell_type": "code",
   "execution_count": 84,
   "id": "3499acc7",
   "metadata": {},
   "outputs": [
    {
     "name": "stdout",
     "output_type": "stream",
     "text": [
      "{1, 2, 3, 4, 5, 6}\n"
     ]
    }
   ],
   "source": [
    "list=[1,2,3]\n",
    "list1=[4,5,6]\n",
    "s=set(list)\n",
    "s1=set(list1)\n",
    "diff=s^s1\n",
    "print(diff)"
   ]
  },
  {
   "cell_type": "code",
   "execution_count": 88,
   "id": "8c68128e",
   "metadata": {},
   "outputs": [
    {
     "name": "stdout",
     "output_type": "stream",
     "text": [
      "{2, 5}\n"
     ]
    }
   ],
   "source": [
    "list1 = [1, 1, 2, 3, 4, 2]\n",
    "list2 = [1, 3, 4, 5]\n",
    "\n",
    "a=set(list1)\n",
    "a1=set(list2)\n",
    "\n",
    "diff=a^a1\n",
    "print(diff)"
   ]
  }
 ],
 "metadata": {
  "kernelspec": {
   "display_name": "Python 3",
   "language": "python",
   "name": "python3"
  },
  "language_info": {
   "codemirror_mode": {
    "name": "ipython",
    "version": 3
   },
   "file_extension": ".py",
   "mimetype": "text/x-python",
   "name": "python",
   "nbconvert_exporter": "python",
   "pygments_lexer": "ipython3",
   "version": "3.13.1"
  }
 },
 "nbformat": 4,
 "nbformat_minor": 5
}
