{
 "cells": [
  {
   "cell_type": "code",
   "execution_count": 63,
   "id": "6ea70d43",
   "metadata": {},
   "outputs": [
    {
     "name": "stdout",
     "output_type": "stream",
     "text": [
      "cherry\n"
     ]
    }
   ],
   "source": [
    "list=['banana','watermelon','pomegranate','cherry','apple']\n",
    "print(list[3])         \n",
    "\n",
    "## here the third fruit is cherry"
   ]
  },
  {
   "cell_type": "code",
   "execution_count": 64,
   "id": "3dc0011d",
   "metadata": {},
   "outputs": [
    {
     "name": "stdout",
     "output_type": "stream",
     "text": [
      "[1, 2, 3, 4, 5, 6]\n"
     ]
    }
   ],
   "source": [
    "num=[1,2,3]\n",
    "num1=[4,5,6]\n",
    "num2=num+num1\n",
    "print(num2)"
   ]
  },
  {
   "cell_type": "code",
   "execution_count": 65,
   "id": "467fc7d3",
   "metadata": {},
   "outputs": [
    {
     "data": {
      "text/plain": [
       "6"
      ]
     },
     "execution_count": 65,
     "metadata": {},
     "output_type": "execute_result"
    }
   ],
   "source": [
    "numbers=[1,2,3,4,5,6]\n",
    "numbers[1]\n",
    "numbers[3]\n",
    "numbers[5]"
   ]
  },
  {
   "cell_type": "code",
   "execution_count": 66,
   "id": "5f22101b",
   "metadata": {},
   "outputs": [
    {
     "ename": "TypeError",
     "evalue": "'tuple' object is not callable",
     "output_type": "error",
     "traceback": [
      "\u001b[31m---------------------------------------------------------------------------\u001b[39m",
      "\u001b[31mTypeError\u001b[39m                                 Traceback (most recent call last)",
      "\u001b[36mCell\u001b[39m\u001b[36m \u001b[39m\u001b[32mIn[66]\u001b[39m\u001b[32m, line 2\u001b[39m\n\u001b[32m      1\u001b[39m movies=[\u001b[33m'\u001b[39m\u001b[33mFast&Furious\u001b[39m\u001b[33m'\u001b[39m,\u001b[33m'\u001b[39m\u001b[33mMask\u001b[39m\u001b[33m'\u001b[39m,\u001b[33m'\u001b[39m\u001b[33mRushhour\u001b[39m\u001b[33m'\u001b[39m,\u001b[33m'\u001b[39m\u001b[33mTaxi\u001b[39m\u001b[33m'\u001b[39m,\u001b[33m'\u001b[39m\u001b[33mAbdulhamidxon2\u001b[39m\u001b[33m'\u001b[39m]\n\u001b[32m----> \u001b[39m\u001b[32m2\u001b[39m x=\u001b[38;5;28;43mtuple\u001b[39;49m\u001b[43m(\u001b[49m\u001b[43mmovies\u001b[49m\u001b[43m)\u001b[49m\n\u001b[32m      3\u001b[39m \u001b[38;5;28mtype\u001b[39m(x)\n",
      "\u001b[31mTypeError\u001b[39m: 'tuple' object is not callable"
     ]
    }
   ],
   "source": [
    "movies=['Fast&Furious','Mask','Rushhour','Taxi','Abdulhamidxon2']\n",
    "x=tuple(movies)\n",
    "type(x)"
   ]
  },
  {
   "cell_type": "code",
   "execution_count": null,
   "id": "f86016b2",
   "metadata": {},
   "outputs": [
    {
     "name": "stdout",
     "output_type": "stream",
     "text": [
      "Yes it exists\n"
     ]
    }
   ],
   "source": [
    "city=['NewYork','Paris','Medina','Madrid','Rome']\n",
    "\n",
    "if 'Paris' in city:\n",
    "    print('Yes it exists')\n",
    "else:\n",
    "    print('No it does not exist')"
   ]
  },
  {
   "cell_type": "code",
   "execution_count": null,
   "id": "34064010",
   "metadata": {},
   "outputs": [
    {
     "name": "stdout",
     "output_type": "stream",
     "text": [
      "[1, 2, 3, 4, 5, 6, 1, 2, 3, 4, 5, 6]\n"
     ]
    }
   ],
   "source": [
    "list=[1,2,3,4,5]\n",
    "duplicated=numbers * 2\n",
    "print(duplicated)"
   ]
  },
  {
   "cell_type": "code",
   "execution_count": null,
   "id": "45ffcbe9",
   "metadata": {},
   "outputs": [
    {
     "name": "stdout",
     "output_type": "stream",
     "text": [
      "[50, 20, 30, 40, 10]\n"
     ]
    }
   ],
   "source": [
    "numbers=[10,20,30,40,50]\n",
    "numbers[0],numbers[-1]=numbers[-1],numbers[0]\n",
    "print(numbers)"
   ]
  },
  {
   "cell_type": "code",
   "execution_count": null,
   "id": "32d5789f",
   "metadata": {},
   "outputs": [
    {
     "data": {
      "text/plain": [
       "(4, 5, 6, 7)"
      ]
     },
     "execution_count": 28,
     "metadata": {},
     "output_type": "execute_result"
    }
   ],
   "source": [
    "mytuple=(1,2,3,4,5,6,7,8,9,10)\n",
    "mytuple[3:7]"
   ]
  },
  {
   "cell_type": "code",
   "execution_count": null,
   "id": "0b1ca245",
   "metadata": {},
   "outputs": [
    {
     "data": {
      "text/plain": [
       "2"
      ]
     },
     "execution_count": 30,
     "metadata": {},
     "output_type": "execute_result"
    }
   ],
   "source": [
    "colors=['blue','red','black','white','blue','orange','brown','yellow']\n",
    "colors.count(\"blue\")"
   ]
  },
  {
   "cell_type": "code",
   "execution_count": null,
   "id": "cbc24367",
   "metadata": {},
   "outputs": [
    {
     "data": {
      "text/plain": [
       "2"
      ]
     },
     "execution_count": 32,
     "metadata": {},
     "output_type": "execute_result"
    }
   ],
   "source": [
    "animals=('cat','dog','lion','flamingo','tiger')\n",
    "animals.index('lion')"
   ]
  },
  {
   "cell_type": "code",
   "execution_count": null,
   "id": "8ef474b4",
   "metadata": {},
   "outputs": [
    {
     "name": "stdout",
     "output_type": "stream",
     "text": [
      "(1, 2, 3, 4, 5, 6, 7, 8, 9)\n"
     ]
    }
   ],
   "source": [
    "my_tuple=(1,2,3,4,5)\n",
    "tuple=(6,7,8,9)\n",
    "combined=my_tuple+tuple\n",
    "print(combined)"
   ]
  },
  {
   "cell_type": "code",
   "execution_count": null,
   "id": "86b7c4fd",
   "metadata": {},
   "outputs": [
    {
     "name": "stdout",
     "output_type": "stream",
     "text": [
      "5\n",
      "11\n"
     ]
    }
   ],
   "source": [
    "list=['gentra','spark','cobalt','nexia','trecker']\n",
    "print(len(list))\n",
    "\n",
    "tuple=(1,2,3,45,6,7,89,23,11,19,10)\n",
    "print(len(tuple))\n",
    "\n"
   ]
  },
  {
   "cell_type": "code",
   "execution_count": null,
   "id": "3bb26450",
   "metadata": {},
   "outputs": [
    {
     "name": "stdout",
     "output_type": "stream",
     "text": [
      "['a', 'b', 'r', 'c', 'i', 'e']\n",
      "<class 'list'>\n"
     ]
    }
   ],
   "source": [
    "\n",
    "my_tuple = ('a', 'b', 'r', 'c', 'i', 'e')\n",
    "x = list(my_tuple)\n",
    "print(x)\n",
    "print(type(x))"
   ]
  },
  {
   "cell_type": "code",
   "execution_count": null,
   "id": "c1048af0",
   "metadata": {},
   "outputs": [
    {
     "name": "stdout",
     "output_type": "stream",
     "text": [
      "99\n",
      "3\n"
     ]
    }
   ],
   "source": [
    "tuples=(12,56,3,45,99,10,17)\n",
    "print(max(tuples))\n",
    "print(min(tuples))"
   ]
  },
  {
   "cell_type": "code",
   "execution_count": 70,
   "id": "44936751",
   "metadata": {},
   "outputs": [
    {
     "name": "stdout",
     "output_type": "stream",
     "text": [
      "('Azizbek', 'MirAli', 'Aziz', 'Kamran')\n"
     ]
    }
   ],
   "source": [
    "names = ('Kamran','Aziz','MirAli','Azizbek')\n",
    "print(names[::-1])"
   ]
  }
 ],
 "metadata": {
  "kernelspec": {
   "display_name": "Python 3",
   "language": "python",
   "name": "python3"
  },
  "language_info": {
   "codemirror_mode": {
    "name": "ipython",
    "version": 3
   },
   "file_extension": ".py",
   "mimetype": "text/x-python",
   "name": "python",
   "nbconvert_exporter": "python",
   "pygments_lexer": "ipython3",
   "version": "3.13.1"
  }
 },
 "nbformat": 4,
 "nbformat_minor": 5
}
