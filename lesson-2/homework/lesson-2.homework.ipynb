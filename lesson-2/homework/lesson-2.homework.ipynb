{
 "cells": [
  {
   "cell_type": "code",
   "execution_count": 1,
   "id": "1a058951",
   "metadata": {},
   "outputs": [
    {
     "name": "stdout",
     "output_type": "stream",
     "text": [
      "22\n"
     ]
    }
   ],
   "source": [
    "a=2025\n",
    "b=2003\n",
    "age=a-b\n",
    "print(a-b)"
   ]
  },
  {
   "cell_type": "code",
   "execution_count": 2,
   "id": "086ebf93",
   "metadata": {},
   "outputs": [
    {
     "data": {
      "text/plain": [
       "'Malibu'"
      ]
     },
     "execution_count": 2,
     "metadata": {},
     "output_type": "execute_result"
    }
   ],
   "source": [
    "txt = 'LMaasleitbtui'\n",
    "\n",
    "txt[1:12:2]\n"
   ]
  },
  {
   "cell_type": "code",
   "execution_count": 33,
   "id": "ece53778",
   "metadata": {},
   "outputs": [
    {
     "data": {
      "text/plain": [
       "'Matiz'"
      ]
     },
     "execution_count": 33,
     "metadata": {},
     "output_type": "execute_result"
    }
   ],
   "source": [
    "txt1 = 'MsaatmiazD'\n",
    "txt1[0:9:2]"
   ]
  },
  {
   "cell_type": "code",
   "execution_count": 34,
   "id": "d20da624",
   "metadata": {},
   "outputs": [
    {
     "data": {
      "text/plain": [
       "'London'"
      ]
     },
     "execution_count": 34,
     "metadata": {},
     "output_type": "execute_result"
    }
   ],
   "source": [
    "txt2 = \"I'am John. I am from London\"\n",
    "len(txt2)\n",
    "txt2[21]\n",
    "\n",
    "txt2[21:27]"
   ]
  },
  {
   "cell_type": "code",
   "execution_count": 35,
   "id": "6e8505e0",
   "metadata": {},
   "outputs": [
    {
     "data": {
      "text/plain": [
       "'natsikebzU'"
      ]
     },
     "execution_count": 35,
     "metadata": {},
     "output_type": "execute_result"
    }
   ],
   "source": [
    "country=\"Uzbekistan\"\n",
    "country[::-1]"
   ]
  },
  {
   "cell_type": "code",
   "execution_count": 97,
   "id": "179546d7",
   "metadata": {},
   "outputs": [
    {
     "name": "stdout",
     "output_type": "stream",
     "text": [
      "'car':1\n",
      "'mersedes':3\n",
      "'RealMadrid':4\n",
      "'Medina':3\n"
     ]
    }
   ],
   "source": [
    "word3=\"car\"\n",
    "vowel_count=sum(1 for letter in word3 if letter.lower() in \"aeiou\")\n",
    "print(f\"'{word3}':{vowel_count}\")\n",
    "\n",
    "word4=\"mersedes\"\n",
    "vowel_count=sum(1 for  letter in word4 if letter.lower() in\"aeiou\")\n",
    "print(f\"'{word4}':{vowel_count}\")\n",
    "\n",
    "\n",
    "club=\"RealMadrid\"\n",
    "vowel_count=sum(1 for letter in club if letter.lower() in \"aeiou\")\n",
    "print(f\"'{club}':{vowel_count}\")\n",
    "\n",
    "city=\"Medina\"\n",
    "vowel_count=sum(1 for letter in city if letter.lower() in \"aeiou\")\n",
    "print(f\"'{city}':{vowel_count}\")"
   ]
  },
  {
   "cell_type": "code",
   "execution_count": 98,
   "id": "10b84dcd",
   "metadata": {},
   "outputs": [
    {
     "name": "stdout",
     "output_type": "stream",
     "text": [
      "54\n"
     ]
    }
   ],
   "source": [
    "numbers=[1,10,25,54,45]\n",
    "\n",
    "print(max(numbers))"
   ]
  },
  {
   "cell_type": "code",
   "execution_count": 99,
   "id": "67fea283",
   "metadata": {},
   "outputs": [
    {
     "name": "stdout",
     "output_type": "stream",
     "text": [
      "'town' is not a palindrome.\n",
      "'racecar' is a palindrome!\n"
     ]
    }
   ],
   "source": [
    "word = \"town\"\n",
    "\n",
    "if word == word[::-1]:\n",
    "    print(f\"'{word}' is a palindrome!\")\n",
    "else:\n",
    "    print(f\"'{word}' is not a palindrome.\")\n",
    "\n",
    "\n",
    "    word1=\"racecar\"\n",
    "    if word1==word1[::-1]:\n",
    "        print(f\"'{word1}' is a palindrome!\")\n",
    "    else:\n",
    "        print(f\"'{word1}' is not a palindrome!\")\n"
   ]
  },
  {
   "cell_type": "code",
   "execution_count": 100,
   "id": "cbf1e517",
   "metadata": {},
   "outputs": [
    {
     "data": {
      "text/plain": [
       "'gmail.com'"
      ]
     },
     "execution_count": 100,
     "metadata": {},
     "output_type": "execute_result"
    }
   ],
   "source": [
    "email=\"kamranmatnazarov7@gmail.com\"\n",
    "\n",
    "len(email)\n",
    "email[18]\n",
    "position=email.index(\"g\")\n",
    "\n",
    "position\n",
    "\n",
    "email[18:]"
   ]
  },
  {
   "cell_type": "code",
   "execution_count": 3,
   "id": "72c8202a",
   "metadata": {},
   "outputs": [
    {
     "data": {
      "text/plain": [
       "'w124_1995e_500'"
      ]
     },
     "execution_count": 3,
     "metadata": {},
     "output_type": "execute_result"
    }
   ],
   "source": [
    "password=\"w124_1995e_500\"\n",
    "password"
   ]
  },
  {
   "cell_type": "code",
   "execution_count": 19,
   "id": "068d15c1",
   "metadata": {},
   "outputs": [
    {
     "data": {
      "text/plain": [
       "'Maksam Chirchik'"
      ]
     },
     "execution_count": 19,
     "metadata": {},
     "output_type": "execute_result"
    }
   ],
   "source": [
    "word=\"hi\"\n",
    "word.upper()\n",
    "\n",
    "word1=\"HI\"\n",
    "word.lower()\n",
    "\n",
    "word2=\"strong\"\n",
    "\n",
    "\n",
    "text=\"Muhammad ibn Abdulloh\"\n",
    "text.split()\n",
    "\n",
    "text1=[\"Muhammad\",\"Ibn\",\"Abdulloh\"]\n",
    "text.split()\n",
    "\n",
    "\n",
    "\n",
    "\n",
    "list=[\"Nur\",\"Furniture\"]\n",
    "\" \".join(list)\n",
    "\n",
    "\n",
    "list1=[\"Maksam\",\"Chirchik\"]\n",
    "\n",
    "\" \".join(list1)\n"
   ]
  }
 ],
 "metadata": {
  "kernelspec": {
   "display_name": "Python 3",
   "language": "python",
   "name": "python3"
  },
  "language_info": {
   "codemirror_mode": {
    "name": "ipython",
    "version": 3
   },
   "file_extension": ".py",
   "mimetype": "text/x-python",
   "name": "python",
   "nbconvert_exporter": "python",
   "pygments_lexer": "ipython3",
   "version": "3.13.1"
  }
 },
 "nbformat": 4,
 "nbformat_minor": 5
}
