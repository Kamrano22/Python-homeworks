{
 "cells": [
  {
   "cell_type": "code",
   "execution_count": 22,
   "id": "7f702d93",
   "metadata": {},
   "outputs": [
    {
     "name": "stdout",
     "output_type": "stream",
     "text": [
      "             name\n",
      "0           Album\n",
      "1          Artist\n",
      "2        Customer\n",
      "3        Employee\n",
      "4           Genre\n",
      "5         Invoice\n",
      "6     InvoiceLine\n",
      "7       MediaType\n",
      "8        Playlist\n",
      "9   PlaylistTrack\n",
      "10          Track\n",
      "   InvoiceId  CustomerId          InvoiceDate           BillingAddress  \\\n",
      "0          1           2  2009-01-01 00:00:00  Theodor-Heuss-Straße 34   \n",
      "1          2           4  2009-01-02 00:00:00         Ullevålsveien 14   \n",
      "2          3           8  2009-01-03 00:00:00          Grétrystraat 63   \n",
      "3          4          14  2009-01-06 00:00:00           8210 111 ST NW   \n",
      "4          5          23  2009-01-11 00:00:00          69 Salem Street   \n",
      "\n",
      "  BillingCity BillingState BillingCountry BillingPostalCode  Total  \n",
      "0   Stuttgart         None        Germany             70174   1.98  \n",
      "1        Oslo         None         Norway              0171   3.96  \n",
      "2    Brussels         None        Belgium              1000   5.94  \n",
      "3    Edmonton           AB         Canada           T6G 2C7   8.91  \n",
      "4      Boston           MA            USA              2113  13.86  \n",
      "  FirstName    LastName  TotalSpent\n",
      "0    Helena        Holý       49.62\n",
      "1   Richard  Cunningham       47.62\n",
      "2      Luis       Rojas       46.62\n",
      "3      Hugh    O'Reilly       45.62\n",
      "4  Ladislav      Kovács       45.62\n"
     ]
    }
   ],
   "source": [
    "import sqlite3\n",
    "import pandas as pd\n",
    "\n",
    "conn=sqlite3.connect(r'C:\\Users\\munnaboy\\Desktop\\chinook.db')\n",
    "\n",
    "tables = pd.read_sql(\"\"\"\n",
    "    SELECT name \n",
    "    FROM sqlite_master \n",
    "    WHERE type='table';\n",
    "\"\"\", conn)\n",
    "\n",
    "print(tables)\n",
    "\n",
    "\n",
    "\n",
    "cs=pd.read_sql(\"SELECT * FROM Invoice\",conn)\n",
    "print(cs.head())\n",
    "\n",
    "\n",
    "query =\"\"\"\n",
    "Select c.FirstName,c.LastName,sum(i.Total) as TotalSpent\n",
    "From Invoice i\n",
    "Join Customer c on i.CustomerId=c.CustomerId\n",
    "Group by c.FirstName,c.LastName\n",
    "order by TotalSpent desc\n",
    "\"\"\"\n",
    "\n",
    "df=pd.read_sql(query,conn)\n",
    "print(df.head())\n",
    "\n"
   ]
  },
  {
   "cell_type": "code",
   "execution_count": 31,
   "id": "29919270",
   "metadata": {},
   "outputs": [
    {
     "name": "stdout",
     "output_type": "stream",
     "text": [
      "   CustomerId  TotalPurchase\n",
      "0           6          49.62\n",
      "1          26          47.62\n",
      "2          57          46.62\n",
      "3          45          45.62\n",
      "4          46          45.62\n"
     ]
    }
   ],
   "source": [
    "query_2 = \"\"\"\n",
    "SELECT c.CustomerId, SUM(i.Total) AS TotalPurchase\n",
    "FROM Customer c \n",
    "JOIN Invoice i ON c.CustomerId = i.CustomerId\n",
    "GROUP BY c.CustomerId\n",
    "ORDER BY TotalPurchase DESC\n",
    "LIMIT 5;\n",
    "\"\"\"\n",
    "\n",
    "df = pd.read_sql(query_2, conn)\n",
    "print(df.head())\n",
    "\n"
   ]
  },
  {
   "cell_type": "code",
   "execution_count": 33,
   "id": "caa8c04e",
   "metadata": {},
   "outputs": [
    {
     "name": "stdout",
     "output_type": "stream",
     "text": [
      "   CustomerId FirstName    LastName  TotalPurchase\n",
      "0           6    Helena        Holý          49.62\n",
      "1          26   Richard  Cunningham          47.62\n",
      "2          57      Luis       Rojas          46.62\n",
      "3          45  Ladislav      Kovács          45.62\n",
      "4          46      Hugh    O'Reilly          45.62\n"
     ]
    }
   ],
   "source": [
    "query_3 = \"\"\"\n",
    "SELECT c.CustomerId, c.FirstName, c.LastName, SUM(i.Total) AS TotalPurchase\n",
    "FROM Customer c \n",
    "JOIN Invoice i ON c.CustomerId = i.CustomerId\n",
    "GROUP BY c.CustomerId, c.FirstName, c.LastName\n",
    "ORDER BY TotalPurchase DESC\n",
    "LIMIT 5;\n",
    "\"\"\"\n",
    "\n",
    "df = pd.read_sql(query_3, conn)\n",
    "print(df)\n"
   ]
  },
  {
   "cell_type": "code",
   "execution_count": 51,
   "id": "6feaa8ac",
   "metadata": {},
   "outputs": [
    {
     "name": "stdout",
     "output_type": "stream",
     "text": [
      "   TrackId                                     Name  AlbumId  MediaTypeId  \\\n",
      "0        1  For Those About To Rock (We Salute You)        1            1   \n",
      "1        2                        Balls to the Wall        2            2   \n",
      "2        3                          Fast As a Shark        3            2   \n",
      "3        4                        Restless and Wild        3            2   \n",
      "4        5                     Princess of the Dawn        3            2   \n",
      "\n",
      "   GenreId                                           Composer  Milliseconds  \\\n",
      "0        1          Angus Young, Malcolm Young, Brian Johnson        343719   \n",
      "1        1                                               None        342562   \n",
      "2        1  F. Baltes, S. Kaufman, U. Dirkscneider & W. Ho...        230619   \n",
      "3        1  F. Baltes, R.A. Smith-Diesel, S. Kaufman, U. D...        252051   \n",
      "4        1                         Deaffy & R.A. Smith-Diesel        375418   \n",
      "\n",
      "      Bytes  UnitPrice  \n",
      "0  11170334       0.99  \n",
      "1   5510424       0.99  \n",
      "2   3990994       0.99  \n",
      "3   4331779       0.99  \n",
      "4   6290521       0.99  \n",
      "   PercentArtistsWithFullAlbumSales\n",
      "0                             13.45\n"
     ]
    }
   ],
   "source": [
    "tr =pd.read_sql(\"Select * From Track\",conn)\n",
    "print(tr.head())\n",
    "\n",
    "\n",
    "artist = \"\"\"\n",
    "WITH FullAlbumPurchase AS (\n",
    "    SELECT t.AlbumId, il.InvoiceId, COUNT(DISTINCT il.TrackId) AS TracksBought\n",
    "    FROM InvoiceLine il\n",
    "    JOIN Track t ON il.TrackId = t.TrackId\n",
    "    GROUP BY t.AlbumId, il.InvoiceId\n",
    "    HAVING TracksBought = (\n",
    "        SELECT COUNT(*) FROM Track t2 WHERE t2.AlbumId = t.AlbumId\n",
    "    )\n",
    ")\n",
    "\n",
    "SELECT \n",
    "    ROUND(\n",
    "        100.0 * COUNT(DISTINCT ar.ArtistId) /\n",
    "        (SELECT COUNT(*) FROM Artist),\n",
    "    2\n",
    "    ) AS PercentArtistsWithFullAlbumSales\n",
    "FROM Album al\n",
    "JOIN Artist ar ON al.ArtistId = ar.ArtistId\n",
    "JOIN FullAlbumPurchase f ON f.AlbumId = al.AlbumId;\n",
    "\n",
    "\n",
    "\"\"\"\n",
    "\n",
    "df=pd.read_sql(artist,conn)\n",
    "print(df.head())\n"
   ]
  },
  {
   "cell_type": "code",
   "execution_count": 55,
   "id": "1f78b9d8",
   "metadata": {},
   "outputs": [
    {
     "name": "stdout",
     "output_type": "stream",
     "text": [
      "   CustomerId\n",
      "0           5\n",
      "1           6\n",
      "2           8\n",
      "3           9\n",
      "4          10\n"
     ]
    }
   ],
   "source": [
    "tracks = \"\"\"\n",
    "WITH AlbumTrackCounts AS (\n",
    "    SELECT AlbumId, COUNT(*) AS TotalTracks\n",
    "    FROM Track\n",
    "    GROUP BY AlbumId\n",
    "),\n",
    "\n",
    "AlbumPurchases AS (\n",
    "    SELECT il.InvoiceId, t.AlbumId, i.CustomerId, COUNT(DISTINCT il.TrackId) AS TracksBought\n",
    "    FROM InvoiceLine il\n",
    "    JOIN Track t ON il.TrackId = t.TrackId\n",
    "    JOIN Invoice i ON il.InvoiceId = i.InvoiceId  \n",
    "    GROUP BY il.InvoiceId, t.AlbumId\n",
    "),\n",
    "\n",
    "FullAlbumBuyers AS (\n",
    "    SELECT ap.CustomerId\n",
    "    FROM AlbumPurchases ap\n",
    "    JOIN AlbumTrackCounts atc ON ap.AlbumId = atc.AlbumId\n",
    "    WHERE ap.TracksBought = atc.TotalTracks\n",
    "    GROUP BY ap.CustomerId\n",
    "),\n",
    "\n",
    "AllBuyers AS (\n",
    "    SELECT DISTINCT CustomerId FROM Invoice\n",
    ")\n",
    "\n",
    "SELECT ab.CustomerId\n",
    "FROM AllBuyers ab\n",
    "LEFT JOIN FullAlbumBuyers fab ON ab.CustomerId = fab.CustomerId\n",
    "WHERE fab.CustomerId IS NULL\n",
    "\n",
    "\"\"\"\n",
    "\n",
    "td = pd.read_sql(tracks,conn)\n",
    "print(td.head())\n",
    "\n"
   ]
  },
  {
   "cell_type": "code",
   "execution_count": 57,
   "id": "8e32df2f",
   "metadata": {},
   "outputs": [
    {
     "name": "stdout",
     "output_type": "stream",
     "text": [
      "   FullAlbumBuyers  IndividualTrackBuyers  TotalCustomers  FullAlbumPercent  \\\n",
      "0               21                     38              59             35.59   \n",
      "\n",
      "   IndividualTrackPercent  \n",
      "0                   64.41  \n"
     ]
    }
   ],
   "source": [
    "\n",
    "\n",
    "final = \"\"\"\n",
    "WITH FullAlbumBuyers AS (\n",
    "    SELECT DISTINCT i.CustomerId\n",
    "    FROM InvoiceLine il\n",
    "    JOIN Track t ON il.TrackId = t.TrackId\n",
    "    JOIN Invoice i ON il.InvoiceId = i.InvoiceId\n",
    "    JOIN (\n",
    "        SELECT AlbumId, COUNT(*) AS TotalTracks\n",
    "        FROM Track\n",
    "        GROUP BY AlbumId\n",
    "    ) atc ON t.AlbumId = atc.AlbumId\n",
    "    GROUP BY i.InvoiceId, t.AlbumId\n",
    "    HAVING COUNT(DISTINCT il.TrackId) = atc.TotalTracks\n",
    "),\n",
    "\n",
    "AllBuyers AS (\n",
    "    SELECT DISTINCT CustomerId FROM Invoice\n",
    ")\n",
    "\n",
    "SELECT\n",
    "    (SELECT COUNT(*) FROM FullAlbumBuyers) AS FullAlbumBuyers,\n",
    "    (SELECT COUNT(*) FROM AllBuyers) - (SELECT COUNT(*) FROM FullAlbumBuyers) AS IndividualTrackBuyers,\n",
    "    (SELECT COUNT(*) FROM AllBuyers) AS TotalCustomers,\n",
    "    ROUND(100.0 * (SELECT COUNT(*) FROM FullAlbumBuyers) / (SELECT COUNT(*) FROM AllBuyers), 2) AS FullAlbumPercent,\n",
    "    ROUND(100.0 * ((SELECT COUNT(*) FROM AllBuyers) - (SELECT COUNT(*) FROM FullAlbumBuyers)) / (SELECT COUNT(*) FROM AllBuyers), 2) AS IndividualTrackPercent;\n",
    "\"\"\"\n",
    "\n",
    "fq =pd.read_sql(final,conn)\n",
    "print(fq.head())"
   ]
  }
 ],
 "metadata": {
  "kernelspec": {
   "display_name": "Python 3",
   "language": "python",
   "name": "python3"
  },
  "language_info": {
   "codemirror_mode": {
    "name": "ipython",
    "version": 3
   },
   "file_extension": ".py",
   "mimetype": "text/x-python",
   "name": "python",
   "nbconvert_exporter": "python",
   "pygments_lexer": "ipython3",
   "version": "3.13.1"
  }
 },
 "nbformat": 4,
 "nbformat_minor": 5
}
