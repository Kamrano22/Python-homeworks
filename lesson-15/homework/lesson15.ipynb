{
 "cells": [
  {
   "cell_type": "code",
   "execution_count": 24,
   "id": "18f04937",
   "metadata": {},
   "outputs": [],
   "source": [
    "import sqlite3\n",
    "\n",
    "with sqlite3.connect('new_database.db') as conn:\n",
    "    cursor = conn.cursor()\n",
    "\n",
    "    cursor.execute(\"DROP TABLE IF EXISTS Roster\")\n",
    "\n",
    "    cursor.execute(\n",
    "        \"\"\"\n",
    "        CREATE TABLE Roster (\n",
    "            Name TEXT,\n",
    "            Species TEXT,\n",
    "            Age INT\n",
    "        );\n",
    "        \"\"\"\n",
    "    )\n",
    "\n",
    "\n",
    "    cursor.execute(\"Insert Into Roster Values('Benjamin Sisko','Human',40),('Jadzia Dax','Trill',300),('Kira Nerys','Bajoran',29)\")\n",
    "    "
   ]
  },
  {
   "cell_type": "code",
   "execution_count": 25,
   "id": "c20a5a37",
   "metadata": {},
   "outputs": [],
   "source": [
    "cursor.execute(\n",
    "    \"\"\"\n",
    "Update Roster\n",
    "Set Name = ?\n",
    "Where Name = ?\n",
    "\"\"\",('Ezri Dax','Jadzia Dax'))\n",
    "\n",
    "conn.commit()\n",
    "    "
   ]
  },
  {
   "cell_type": "code",
   "execution_count": 26,
   "id": "2384213b",
   "metadata": {},
   "outputs": [
    {
     "name": "stdout",
     "output_type": "stream",
     "text": [
      "('Benjamin Sisko', 'Human', 40)\n",
      "('Ezri Dax', 'Trill', 300)\n",
      "('Kira Nerys', 'Bajoran', 29)\n"
     ]
    }
   ],
   "source": [
    "cursor.execute('Select * From Roster')\n",
    "for row in cursor.fetchall():\n",
    "    print(row)"
   ]
  },
  {
   "cell_type": "code",
   "execution_count": 27,
   "id": "26831825",
   "metadata": {},
   "outputs": [
    {
     "name": "stdout",
     "output_type": "stream",
     "text": [
      "('Kira Nerys', 'Bajoran', 29)\n"
     ]
    }
   ],
   "source": [
    "\n",
    "cursor.execute(\"SELECT * FROM Roster WHERE Species = 'Bajoran'\")\n",
    "row = cursor.fetchone()\n",
    "print(row)"
   ]
  }
 ],
 "metadata": {
  "kernelspec": {
   "display_name": "Python 3",
   "language": "python",
   "name": "python3"
  },
  "language_info": {
   "codemirror_mode": {
    "name": "ipython",
    "version": 3
   },
   "file_extension": ".py",
   "mimetype": "text/x-python",
   "name": "python",
   "nbconvert_exporter": "python",
   "pygments_lexer": "ipython3",
   "version": "3.13.1"
  }
 },
 "nbformat": 4,
 "nbformat_minor": 5
}
