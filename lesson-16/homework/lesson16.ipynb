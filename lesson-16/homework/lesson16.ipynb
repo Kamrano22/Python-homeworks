{
 "cells": [
  {
   "cell_type": "code",
   "execution_count": 5,
   "id": "303a6a41",
   "metadata": {},
   "outputs": [
    {
     "data": {
      "text/plain": [
       "array([ 12.23,  13.32, 100.  ,  36.32])"
      ]
     },
     "execution_count": 5,
     "metadata": {},
     "output_type": "execute_result"
    }
   ],
   "source": [
    "import numpy as np\n",
    "\n",
    "original_list =  [12.23, 13.32, 100, 36.32]\n",
    "\n",
    "arr = np.array(original_list)\n",
    "arr\n"
   ]
  },
  {
   "cell_type": "code",
   "execution_count": 7,
   "id": "5537bbf6",
   "metadata": {},
   "outputs": [
    {
     "data": {
      "text/plain": [
       "array([[5, 6, 6],\n",
       "       [3, 3, 8],\n",
       "       [4, 7, 6]], dtype=int32)"
      ]
     },
     "execution_count": 7,
     "metadata": {},
     "output_type": "execute_result"
    }
   ],
   "source": [
    "np.random.randint(2,10,size=(3,3))"
   ]
  },
  {
   "cell_type": "code",
   "execution_count": 13,
   "id": "b0f0be1e",
   "metadata": {},
   "outputs": [
    {
     "data": {
      "text/plain": [
       "array([ 0.,  0.,  0.,  0.,  0.,  0., 11.,  0.,  0.,  0.,  0.])"
      ]
     },
     "execution_count": 13,
     "metadata": {},
     "output_type": "execute_result"
    }
   ],
   "source": [
    "array = np.zeros(11)\n",
    "array[6] = 11\n",
    "array\n"
   ]
  },
  {
   "cell_type": "code",
   "execution_count": 16,
   "id": "24d67300",
   "metadata": {},
   "outputs": [
    {
     "data": {
      "text/plain": [
       "array([27, 33, 20, 17, 26, 12, 26, 35, 37, 31], dtype=int32)"
      ]
     },
     "execution_count": 16,
     "metadata": {},
     "output_type": "execute_result"
    }
   ],
   "source": [
    "np.random.randint(12,38,10)"
   ]
  },
  {
   "cell_type": "code",
   "execution_count": 24,
   "id": "d3e8c5a8",
   "metadata": {},
   "outputs": [],
   "source": [
    "original_array = np.array([1, 2, 3, 4])\n",
    "\n",
    "arr1 = np.array(original_array, dtype=float)\n"
   ]
  },
  {
   "cell_type": "code",
   "execution_count": 27,
   "id": "cc1482d1",
   "metadata": {},
   "outputs": [
    {
     "name": "stdout",
     "output_type": "stream",
     "text": [
      "Celsius array:\n",
      " [[  0.    12.    45.21  34.    99.91]\n",
      " [-17.78 -11.11   7.34   1.11  37.73]]\n",
      "\n",
      "Fahrenheit array:\n",
      " [[ 3.20000e+01  5.36000e+01  1.13378e+02  9.32000e+01  2.11838e+02]\n",
      " [-4.00000e-03  1.20020e+01  4.52120e+01  3.39980e+01  9.99140e+01]]\n"
     ]
    }
   ],
   "source": [
    "import numpy as np\n",
    "\n",
    "celsius = np.array([\n",
    "    [0, 12, 45.21, 34, 99.91],\n",
    "    [-17.78, -11.11, 7.34, 1.11, 37.73]\n",
    "])\n",
    "\n",
    "fahrenheit = (celsius * 9/5) + 32\n",
    "\n",
    "print(\"Celsius array:\\n\", celsius)\n",
    "print(\"\\nFahrenheit array:\\n\", fahrenheit)"
   ]
  },
  {
   "cell_type": "code",
   "execution_count": 34,
   "id": "6eeabfbd",
   "metadata": {},
   "outputs": [
    {
     "name": "stdout",
     "output_type": "stream",
     "text": [
      "Original_Values: [10 20 30]\n",
      "Extended_Values: [10 20 30 40 50 60 70 80 90]\n"
     ]
    }
   ],
   "source": [
    "import numpy as np\n",
    "\n",
    "original_values = np.array([10, 20, 30])\n",
    "\n",
    "extended_values = np.append(original_values, [40, 50, 60, 70, 80, 90])\n",
    "\n",
    "print(\"Original_Values:\",original_values)\n",
    "print(\"Extended_Values:\",extended_values)"
   ]
  },
  {
   "cell_type": "code",
   "execution_count": 44,
   "id": "dcd31976",
   "metadata": {},
   "outputs": [
    {
     "name": "stdout",
     "output_type": "stream",
     "text": [
      "Array: [5 9 5 6 2 6 0 7 2 5]\n",
      "Mean: 4.7\n",
      "Median: 5.0\n",
      "Standard_Deviation: 2.5317977802344327\n"
     ]
    }
   ],
   "source": [
    "original_array = np.random.randint(0,10,10)\n",
    "\n",
    "mean = np.mean(original_array)\n",
    "median = np.median(original_array)\n",
    "standard_deviation = np.std(original_array)\n",
    "\n",
    "\n",
    "print(\"Array:\", original_array)\n",
    "print(\"Mean:\", mean)\n",
    "print(\"Median:\",median)\n",
    "print(\"Standard_Deviation:\",standard_deviation)\n"
   ]
  },
  {
   "cell_type": "code",
   "execution_count": 51,
   "id": "d51e6224",
   "metadata": {},
   "outputs": [
    {
     "name": "stdout",
     "output_type": "stream",
     "text": [
      "Max_value: 99\n",
      "Min_Value: 0\n"
     ]
    }
   ],
   "source": [
    "import numpy as np\n",
    "arrays = np.random.randint(0,100, size =(10,10))\n",
    "arrays\n",
    "\n",
    "max_value = np.max(arrays)\n",
    "min_value = np.min(arrays)\n",
    "\n",
    "print(\"Max_value:\",max_value)\n",
    "print(\"Min_Value:\",min_value)"
   ]
  },
  {
   "cell_type": "code",
   "execution_count": 53,
   "id": "54ae7bd3",
   "metadata": {},
   "outputs": [
    {
     "data": {
      "text/plain": [
       "array([[[ 33, 603, 525],\n",
       "        [298, 719, 631],\n",
       "        [911, 323, 196]],\n",
       "\n",
       "       [[384,  76, 675],\n",
       "        [903, 932, 451],\n",
       "        [624, 905, 662]],\n",
       "\n",
       "       [[ 12, 600, 513],\n",
       "        [555, 824, 348],\n",
       "        [398, 764, 369]]], dtype=int32)"
      ]
     },
     "execution_count": 53,
     "metadata": {},
     "output_type": "execute_result"
    }
   ],
   "source": [
    "import numpy as np\n",
    "\n",
    "random_array = np.random.randint(10,1000, size =(3,3,3))\n",
    "\n",
    "random_array"
   ]
  }
 ],
 "metadata": {
  "kernelspec": {
   "display_name": "Python 3",
   "language": "python",
   "name": "python3"
  },
  "language_info": {
   "codemirror_mode": {
    "name": "ipython",
    "version": 3
   },
   "file_extension": ".py",
   "mimetype": "text/x-python",
   "name": "python",
   "nbconvert_exporter": "python",
   "pygments_lexer": "ipython3",
   "version": "3.13.1"
  }
 },
 "nbformat": 4,
 "nbformat_minor": 5
}
