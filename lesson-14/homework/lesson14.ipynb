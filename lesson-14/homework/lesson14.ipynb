{
 "cells": [
  {
   "cell_type": "code",
   "execution_count": 2,
   "id": "f81cc742",
   "metadata": {},
   "outputs": [
    {
     "name": "stdout",
     "output_type": "stream",
     "text": [
      "Error: File 'students.json' not found.\n"
     ]
    }
   ],
   "source": [
    "import json\n",
    "\n",
    "def read_students_file(filename):\n",
    "    try:\n",
    "        with open(filename, 'r') as f:\n",
    "            data = json.load(f) \n",
    "\n",
    "        for idx, student in enumerate(data, start=1):\n",
    "            print(f\"\\nStudent {idx}:\")\n",
    "            for key, value in student.items():\n",
    "                print(f\"{key.capitalize()}: {value}\")\n",
    "\n",
    "    except FileNotFoundError:\n",
    "        print(f\"Error: File '{filename}' not found.\")\n",
    "    except json.JSONDecodeError:\n",
    "        print(f\"Error: File '{filename}' is not a valid JSON file.\")\n",
    "    except Exception as e:\n",
    "        print(f\"An unexpected error occurred: {e}\")\n",
    "\n",
    "read_students_file('students.json')\n"
   ]
  },
  {
   "cell_type": "code",
   "execution_count": 5,
   "id": "a7c4e23e",
   "metadata": {},
   "outputs": [
    {
     "name": "stdout",
     "output_type": "stream",
     "text": [
      "HTTP error occurred: 401 Client Error: Unauthorized for url: http://api.openweathermap.org/data/2.5/weather?q=Tashkent&appid=your_api_key_here&units=metric\n"
     ]
    }
   ],
   "source": [
    "import requests\n",
    "\n",
    "def get_weather(city_name, api_key):\n",
    "    base_url = \"http://api.openweathermap.org/data/2.5/weather\"\n",
    "    \n",
    "    params = {\n",
    "        'q': city_name,\n",
    "        'appid': api_key,\n",
    "        'units': 'metric'  # 'metric' for Celsius, 'imperial' for Fahrenheit\n",
    "    }\n",
    "\n",
    "    try:\n",
    "        response = requests.get(base_url, params=params)\n",
    "        response.raise_for_status()  # Raises an error for bad responses\n",
    "        data = response.json()\n",
    "\n",
    "        # Extract required information\n",
    "        city = data['name']\n",
    "        country = data['sys']['country']\n",
    "        temp = data['main']['temp']\n",
    "        humidity = data['main']['humidity']\n",
    "        weather_desc = data['weather'][0]['description']\n",
    "\n",
    "        # Print weather info\n",
    "        print(f\"\\nWeather in {city}, {country}:\")\n",
    "        print(f\"Temperature: {temp}°C\")\n",
    "        print(f\"Humidity: {humidity}%\")\n",
    "        print(f\"Condition: {weather_desc.capitalize()}\")\n",
    "\n",
    "    except requests.exceptions.HTTPError as http_err:\n",
    "        print(f\"HTTP error occurred: {http_err}\")\n",
    "    except requests.exceptions.RequestException as err:\n",
    "        print(f\"Request error: {err}\")\n",
    "    except KeyError:\n",
    "        print(\"Could not find expected data in the response.\")\n",
    "    except Exception as e:\n",
    "        print(f\"An unexpected error occurred: {e}\")\n",
    "\n",
    "# Replace 'your_api_key_here' with your actual OpenWeatherMap API key\n",
    "get_weather(\"Tashkent\", \"your_api_key_here\")\n"
   ]
  },
  {
   "cell_type": "code",
   "execution_count": null,
   "id": "2050aae4",
   "metadata": {},
   "outputs": [
    {
     "name": "stdout",
     "output_type": "stream",
     "text": [
      "\n",
      "1. Add  2. Update  3. Delete  4. Exit\n"
     ]
    }
   ],
   "source": [
    "import json\n",
    "import os\n",
    "\n",
    "file = 'books.json'\n",
    "\n",
    "def load_books():\n",
    "    if os.path.exists(file):\n",
    "        with open(file, 'r') as f:\n",
    "            return json.load(f)\n",
    "    return []\n",
    "\n",
    "def save_books(books):\n",
    "    with open(file, 'w') as f:\n",
    "        json.dump(books, f, indent=2)\n",
    "\n",
    "def add_book():\n",
    "    books = load_books()\n",
    "    book = {\n",
    "        'id': int(input(\"ID: \")),\n",
    "        'title': input(\"Title: \"),\n",
    "        'author': input(\"Author: \"),\n",
    "        'year': int(input(\"Year: \"))\n",
    "    }\n",
    "    books.append(book)\n",
    "    save_books(books)\n",
    "    print(\"Book added.\")\n",
    "\n",
    "def update_book():\n",
    "    books = load_books()\n",
    "    book_id = int(input(\"Enter ID to update: \"))\n",
    "    for book in books:\n",
    "        if book['id'] == book_id:\n",
    "            book['title'] = input(\"New Title: \")\n",
    "            book['author'] = input(\"New Author: \")\n",
    "            book['year'] = int(input(\"New Year: \"))\n",
    "            save_books(books)\n",
    "            print(\"Book updated.\")\n",
    "            return\n",
    "    print(\"Book not found.\")\n",
    "\n",
    "def delete_book():\n",
    "    books = load_books()\n",
    "    book_id = int(input(\"Enter ID to delete: \"))\n",
    "    books = [b for b in books if b['id'] != book_id]\n",
    "    save_books(books)\n",
    "    print(\"Book deleted.\")\n",
    "\n",
    "def menu():\n",
    "    while True:\n",
    "        print(\"\\n1. Add  2. Update  3. Delete  4. Exit\")\n",
    "        choice = input(\"Choose: \")\n",
    "        if choice == '1':\n",
    "            add_book()\n",
    "        elif choice == '2':\n",
    "            update_book()\n",
    "        elif choice == '3':\n",
    "            delete_book()\n",
    "        elif choice == '4':\n",
    "            break\n",
    "        else:\n",
    "            print(\"Invalid choice.\")\n",
    "\n",
    "menu()\n",
    "\n",
    "\n"
   ]
  }
 ],
 "metadata": {
  "kernelspec": {
   "display_name": "Python 3",
   "language": "python",
   "name": "python3"
  },
  "language_info": {
   "codemirror_mode": {
    "name": "ipython",
    "version": 3
   },
   "file_extension": ".py",
   "mimetype": "text/x-python",
   "name": "python",
   "nbconvert_exporter": "python",
   "pygments_lexer": "ipython3",
   "version": "3.13.1"
  }
 },
 "nbformat": 4,
 "nbformat_minor": 5
}
