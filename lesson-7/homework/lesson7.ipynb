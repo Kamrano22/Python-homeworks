{
 "cells": [
  {
   "cell_type": "code",
   "execution_count": 3,
   "id": "91e20ba2",
   "metadata": {},
   "outputs": [
    {
     "name": "stdout",
     "output_type": "stream",
     "text": [
      "False\n",
      "True\n"
     ]
    }
   ],
   "source": [
    "def is_prime(n):\n",
    "    if n < 2:\n",
    "        return False\n",
    "    for i in range(2, n):\n",
    "        if n % i == 0:\n",
    "            return False\n",
    "    return True\n",
    "\n",
    "\n",
    "print(is_prime(4))\n",
    "print(is_prime(7))\n"
   ]
  },
  {
   "cell_type": "code",
   "execution_count": 7,
   "id": "c498c8b7",
   "metadata": {},
   "outputs": [
    {
     "name": "stdout",
     "output_type": "stream",
     "text": [
      "6\n",
      "7\n"
     ]
    }
   ],
   "source": [
    "def digit_sum(k):\n",
    "    total = 0\n",
    "    for digit in str(k):\n",
    "        total += int(digit)\n",
    "    return total\n",
    "\n",
    "print(digit_sum(24))\n",
    "print(digit_sum(502))"
   ]
  },
  {
   "cell_type": "code",
   "execution_count": 17,
   "id": "cb9d47ff",
   "metadata": {},
   "outputs": [
    {
     "name": "stdout",
     "output_type": "stream",
     "text": [
      "2^0 = 1\n",
      "2^1 = 2\n",
      "2^2 = 4\n",
      "2^3 = 8\n",
      "None\n"
     ]
    }
   ],
   "source": [
    "def my_function(n):\n",
    "    k = 0\n",
    "    while 2 ** k <= n:\n",
    "        print(f\"2^{k} = {2 ** k}\")\n",
    "        k += 1\n",
    "  \n",
    "print(my_function(10))"
   ]
  }
 ],
 "metadata": {
  "kernelspec": {
   "display_name": "Python 3",
   "language": "python",
   "name": "python3"
  },
  "language_info": {
   "codemirror_mode": {
    "name": "ipython",
    "version": 3
   },
   "file_extension": ".py",
   "mimetype": "text/x-python",
   "name": "python",
   "nbconvert_exporter": "python",
   "pygments_lexer": "ipython3",
   "version": "3.13.1"
  }
 },
 "nbformat": 4,
 "nbformat_minor": 5
}
