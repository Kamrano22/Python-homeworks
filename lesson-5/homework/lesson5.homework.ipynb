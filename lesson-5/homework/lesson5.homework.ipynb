{
 "cells": [
  {
   "cell_type": "code",
   "execution_count": 22,
   "id": "7355d473",
   "metadata": {},
   "outputs": [
    {
     "name": "stdout",
     "output_type": "stream",
     "text": [
      "19 Weird\n"
     ]
    }
   ],
   "source": [
    "n=19\n",
    "if n%2==1:\n",
    "    print(f'{n} Weird')"
   ]
  },
  {
   "cell_type": "code",
   "execution_count": null,
   "id": "b267f1bd",
   "metadata": {},
   "outputs": [
    {
     "name": "stdout",
     "output_type": "stream",
     "text": [
      "2 Not Weird\n",
      "4 Not Weird\n"
     ]
    }
   ],
   "source": [
    "\n",
    "for n in range(2,5):\n",
    "    if n%2==0:\n",
    "        print(f'{n} Not Weird')"
   ]
  },
  {
   "cell_type": "code",
   "execution_count": 30,
   "id": "c453b25d",
   "metadata": {},
   "outputs": [
    {
     "name": "stdout",
     "output_type": "stream",
     "text": [
      "7 Weird\n",
      "9 Weird\n",
      "11 Weird\n",
      "13 Weird\n",
      "15 Weird\n",
      "17 Weird\n",
      "19 Weird\n"
     ]
    }
   ],
   "source": [
    "for n in range(6,20):\n",
    "    if n%2==1:\n",
    "        print(f'{n} Weird')"
   ]
  },
  {
   "cell_type": "code",
   "execution_count": 38,
   "id": "97fce05c",
   "metadata": {},
   "outputs": [
    {
     "name": "stdout",
     "output_type": "stream",
     "text": [
      "24 Not Weird\n"
     ]
    }
   ],
   "source": [
    "n=24\n",
    "if n%2==0 and n > 20:\n",
    "    print(f'{n} Not Weird')"
   ]
  },
  {
   "cell_type": "code",
   "execution_count": null,
   "id": "d4c66bb6",
   "metadata": {},
   "outputs": [
    {
     "name": "stdout",
     "output_type": "stream",
     "text": [
      "8 meet the condition\n"
     ]
    }
   ],
   "source": [
    "n = 8\n",
    "a = 2\n",
    "b = 20\n",
    "\n",
    "if n % 2 == 0:\n",
    "    if a <= n <= b:\n",
    "        print(f'{n} meet the condition')\n"
   ]
  },
  {
   "cell_type": "code",
   "execution_count": 48,
   "id": "a14de231",
   "metadata": {},
   "outputs": [
    {
     "name": "stdout",
     "output_type": "stream",
     "text": [
      "2 meet the condition\n"
     ]
    }
   ],
   "source": [
    "n=2\n",
    "a=1\n",
    "b=10\n",
    "\n",
    "if n%2==0 and a<=n<=b:\n",
    "    print(f'{n} meet the condition')"
   ]
  }
 ],
 "metadata": {
  "kernelspec": {
   "display_name": "Python 3",
   "language": "python",
   "name": "python3"
  },
  "language_info": {
   "codemirror_mode": {
    "name": "ipython",
    "version": 3
   },
   "file_extension": ".py",
   "mimetype": "text/x-python",
   "name": "python",
   "nbconvert_exporter": "python",
   "pygments_lexer": "ipython3",
   "version": "3.13.1"
  }
 },
 "nbformat": 4,
 "nbformat_minor": 5
}
