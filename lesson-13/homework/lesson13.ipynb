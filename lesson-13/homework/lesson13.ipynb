{
 "cells": [
  {
   "cell_type": "code",
   "execution_count": 8,
   "id": "8222a7bc",
   "metadata": {},
   "outputs": [
    {
     "name": "stdout",
     "output_type": "stream",
     "text": [
      "Your age is: 21\n"
     ]
    }
   ],
   "source": [
    "from datetime import date\n",
    "\n",
    "# Step 1:  we Enter birthdate\n",
    "birthdate = date(2003, 6, 23)\n",
    "\n",
    "# Step 2: Then Get today's date\n",
    "today = date.today()\n",
    "\n",
    "# Step 3: folowing we Calculate age\n",
    "age = today.year - birthdate.year\n",
    "\n",
    "# Step 4:  at the end we Adjust if birthday hasn't occurred yet this year\n",
    "if (today.month, today.day) < (birthdate.month, birthdate.day):\n",
    "    age -= 1\n",
    "\n",
    "print(\"Your age is:\", age)"
   ]
  },
  {
   "cell_type": "code",
   "execution_count": 16,
   "id": "10a74fa6",
   "metadata": {},
   "outputs": [
    {
     "name": "stdout",
     "output_type": "stream",
     "text": [
      "Days untill next birthday: 289\n"
     ]
    }
   ],
   "source": [
    "from datetime import date\n",
    "\n",
    "birthdate= date(1977,3,27)\n",
    "today = date.today()\n",
    "\n",
    "this_year_birthday = date(today.year,birthdate.month,birthdate.day)\n",
    "\n",
    "if this_year_birthday < today:\n",
    "\n",
    "    next_birthday = date(today.year + 1, birthdate.month, birthdate.day)\n",
    "else:\n",
    "   \n",
    "    next_birthday = this_year_birthday\n",
    "\n",
    "\n",
    "days_left = (next_birthday - today).days\n",
    "print('Days untill next birthday:',days_left)\n"
   ]
  },
  {
   "cell_type": "code",
   "execution_count": 1,
   "id": "84857146",
   "metadata": {},
   "outputs": [
    {
     "name": "stdout",
     "output_type": "stream",
     "text": [
      "Meeting starts at: 2025-06-23 08:00\n",
      "Meeting ends at: 2025-06-23 12:00\n"
     ]
    }
   ],
   "source": [
    "from datetime import datetime,timedelta\n",
    "\n",
    "\n",
    "start_str = \"2025-06-23 08:00\"  # Start date and time as a string\n",
    "duration_hours = 2\n",
    "duration_minutes = 120\n",
    "\n",
    "\n",
    "start_time = datetime.strptime(start_str,'%Y-%m-%d %H:%M')\n",
    "total_duration = timedelta(hours = duration_hours,minutes=duration_minutes)\n",
    "\n",
    "end_time = start_time + total_duration\n",
    "\n",
    "\n",
    "print(\"Meeting starts at:\", start_time.strftime(\"%Y-%m-%d %H:%M\"))\n",
    "print(\"Meeting ends at:\", end_time.strftime(\"%Y-%m-%d %H:%M\"))\n"
   ]
  },
  {
   "cell_type": "code",
   "execution_count": 14,
   "id": "d83c5ad2",
   "metadata": {},
   "outputs": [
    {
     "name": "stdout",
     "output_type": "stream",
     "text": [
      "Invalid format. Use YYYY-MM-DD (like 2025-06-14).\n"
     ]
    }
   ],
   "source": [
    "from datetime import datetime\n",
    "import time\n",
    "\n",
    "date_str = input(\"Enter a future date (YYYY-MM-DD): \")\n",
    "\n",
    "try:\n",
    "    target = datetime.strptime(date_str, \"%Y-%m-%d\")\n",
    "\n",
    "    while True:\n",
    "        now = datetime.now()\n",
    "        remaining = target - now\n",
    "\n",
    "        if remaining.total_seconds() <= 0:\n",
    "            print(\"\\nTime's up! 🎉\")\n",
    "            break\n",
    "\n",
    "        print(f\"\\rTime left: {remaining}\", end=\"\")\n",
    "        time.sleep(1)\n",
    "\n",
    "except ValueError:\n",
    "    print(\"Invalid format. Use YYYY-MM-DD (like 2025-06-14).\")"
   ]
  },
  {
   "cell_type": "code",
   "execution_count": 16,
   "id": "bef9dca2",
   "metadata": {},
   "outputs": [
    {
     "name": "stdout",
     "output_type": "stream",
     "text": [
      "Time left: 0:00:00.921003\n",
      "Time's up! \n"
     ]
    }
   ],
   "source": [
    "import time\n",
    "from datetime import datetime, timedelta\n",
    "\n",
    "target = datetime.now() + timedelta(seconds=10)\n",
    "\n",
    "while True:\n",
    "    now = datetime.now()\n",
    "    remaining = target - now\n",
    "\n",
    "    if remaining.total_seconds() <= 0:\n",
    "        print(\"\\nTime's up! \")\n",
    "        break\n",
    "\n",
    "    print(f\"\\rTime left: {remaining}\", end=\"\")\n",
    "    time.sleep(1)"
   ]
  },
  {
   "cell_type": "code",
   "execution_count": 25,
   "id": "a541fd93",
   "metadata": {},
   "outputs": [
    {
     "name": "stdout",
     "output_type": "stream",
     "text": [
      " Valid email address!\n"
     ]
    }
   ],
   "source": [
    "import re\n",
    "\n",
    "email= \"kamranmatnazarov0022@gmail.com\"\n",
    "email_pattern =  r'^[a-zA-Z0-9._%+-]+@[a-zA-Z0-9.-]+\\.[a-zA-Z]{2,}$'\n",
    "\n",
    "if re.fullmatch(email_format, email):\n",
    "    print(\" Valid email address!\")\n",
    "else:\n",
    "    print(\" Invalid email address.\")"
   ]
  },
  {
   "cell_type": "code",
   "execution_count": 1,
   "id": "85b5f933",
   "metadata": {},
   "outputs": [
    {
     "name": "stdout",
     "output_type": "stream",
     "text": [
      "(998) 97-458-0022\n"
     ]
    }
   ],
   "source": [
    "import re\n",
    "\n",
    "phone_number = '998974580022'\n",
    "pattern = r'(\\d{3})(\\d{2})(\\d{3})(\\d{4})'\n",
    "\n",
    "match = re.fullmatch(pattern, phone_number)  \n",
    "\n",
    "if match:\n",
    "    formatted = f'({match.group(1)}) {match.group(2)}-{match.group(3)}-{match.group(4)}'\n",
    "    print(formatted)\n",
    "else:\n",
    "    print(\"Invalid phone number format.\")\n"
   ]
  },
  {
   "cell_type": "code",
   "execution_count": 9,
   "id": "caab1d8c",
   "metadata": {},
   "outputs": [
    {
     "name": "stdout",
     "output_type": "stream",
     "text": [
      "Output: ['W124_1995_e_500']\n"
     ]
    }
   ],
   "source": [
    "import re\n",
    "\n",
    "password = 'W124_1995_e_500' \n",
    "pattern = r'^[a-zA-Z0-9_.]{15}$' \n",
    "\n",
    "matched = re.findall(pattern, password)\n",
    "print(f'Output:',matched)\n",
    "\n",
    "\n"
   ]
  },
  {
   "cell_type": "code",
   "execution_count": 13,
   "id": "91ea4b06",
   "metadata": {},
   "outputs": [
    {
     "name": "stdout",
     "output_type": "stream",
     "text": [
      "['cars', 'cars', 'Cars']\n"
     ]
    }
   ],
   "source": [
    "import re \n",
    "\n",
    "specific_word = (\"Today demand for cars is increasing. \"\n",
    "                 \"Especially, electronic cars are becoming popular in Uzbekistan. \"\n",
    "                 \"Cars have become an irreplaceable part of each person's life.\")\n",
    "\n",
    "pattern = r'\\bcars\\b'  \n",
    "\n",
    "matches = re.findall(pattern, specific_word, re.IGNORECASE)\n",
    "print(matches)"
   ]
  },
  {
   "cell_type": "code",
   "execution_count": 14,
   "id": "b8a977b9",
   "metadata": {},
   "outputs": [
    {
     "name": "stdout",
     "output_type": "stream",
     "text": [
      "['2025-06-12', '2025-06-13', '2025-06-23']\n"
     ]
    }
   ],
   "source": [
    "import re \n",
    "example = (\"Today is the 2025-06-12.Tomorrow is 2025-06-13.My birthday is on 2025-06-23\")\n",
    "pattern = r'\\b\\d{4}-\\d{2}-\\d{2}\\b'\n",
    "\n",
    "matches = re.findall(pattern,example)\n",
    "print(matches)"
   ]
  }
 ],
 "metadata": {
  "kernelspec": {
   "display_name": "Python 3",
   "language": "python",
   "name": "python3"
  },
  "language_info": {
   "codemirror_mode": {
    "name": "ipython",
    "version": 3
   },
   "file_extension": ".py",
   "mimetype": "text/x-python",
   "name": "python",
   "nbconvert_exporter": "python",
   "pygments_lexer": "ipython3",
   "version": "3.13.1"
  }
 },
 "nbformat": 4,
 "nbformat_minor": 5
}
