{
 "cells": [
  {
   "cell_type": "code",
   "execution_count": 17,
   "id": "77b5d8c0",
   "metadata": {},
   "outputs": [
    {
     "name": "stdout",
     "output_type": "stream",
     "text": [
      "{'b': -1, 'a': 3, 'c': 5, 'd': 7}\n",
      "{'d': 7, 'c': 5, 'a': 3, 'b': -1}\n"
     ]
    }
   ],
   "source": [
    "my_dict={'a':3,'b':-1,'c':5,'d':7}\n",
    "sorted_by_values_asc = dict(sorted(my_dict.items(), key=lambda item: item[1]))\n",
    "print(sorted_by_values_asc)\n",
    "\n",
    "sorted_by_value_desc=dict(sorted(my_dict.items(),key=lambda item:item[1],reverse=True))\n",
    "print(sorted_by_value_desc)"
   ]
  },
  {
   "cell_type": "code",
   "execution_count": 20,
   "id": "c490d957",
   "metadata": {},
   "outputs": [
    {
     "name": "stdout",
     "output_type": "stream",
     "text": [
      "{0: 10, 1: 20, 2: 30}\n"
     ]
    }
   ],
   "source": [
    "thisdict={0:10,1:20}\n",
    "thisdict.update({2:30})\n",
    "print(thisdict)"
   ]
  },
  {
   "cell_type": "code",
   "execution_count": 23,
   "id": "602bb802",
   "metadata": {},
   "outputs": [
    {
     "name": "stdout",
     "output_type": "stream",
     "text": [
      "{1: 10, 2: 20, 3: 30, 4: 40, 5: 50, 6: 60}\n"
     ]
    }
   ],
   "source": [
    "dict1={1:10,2:20}\n",
    "dict2={3:30,4:40}\n",
    "dict3={5:50,6:60}\n",
    "\n",
    "mydict=dict1|dict2|dict3\n",
    "print(mydict)"
   ]
  },
  {
   "cell_type": "code",
   "execution_count": 31,
   "id": "77ee4ded",
   "metadata": {},
   "outputs": [
    {
     "name": "stdout",
     "output_type": "stream",
     "text": [
      "{1: 1, 2: 4, 3: 9, 4: 16, 5: 25}\n",
      "None\n"
     ]
    }
   ],
   "source": [
    "def generate_dict(n):\n",
    "    result={x:(x*x) for x in range(1,n+1)}\n",
    "    print(result)\n",
    "\n",
    "n=5\n",
    "my_dict=generate_dict(n)\n",
    "print(my_dict)\n",
    "   "
   ]
  },
  {
   "cell_type": "code",
   "execution_count": 39,
   "id": "066b6d31",
   "metadata": {},
   "outputs": [
    {
     "name": "stdout",
     "output_type": "stream",
     "text": [
      "{1: 1, 2: 4, 3: 9, 4: 16, 5: 25, 6: 36, 7: 49, 8: 64, 9: 81, 10: 100, 11: 121, 12: 144, 13: 169, 14: 196, 15: 225}\n",
      "None\n"
     ]
    }
   ],
   "source": [
    "def dict_script(n):\n",
    "    result1={x:(x*x) for x in range(1,16)}\n",
    "    print(result1)\n",
    "\n",
    "n=16\n",
    "my_dict=dict_script(n)\n",
    "print(my_dict)\n",
    " "
   ]
  },
  {
   "cell_type": "code",
   "execution_count": 41,
   "id": "1731bbb2",
   "metadata": {},
   "outputs": [],
   "source": [
    "gm_set={'gentra','nexia','cobalt',12,4,5,True}"
   ]
  },
  {
   "cell_type": "code",
   "execution_count": 48,
   "id": "46b1c652",
   "metadata": {},
   "outputs": [
    {
     "name": "stdout",
     "output_type": "stream",
     "text": [
      "1\n",
      "2\n",
      "3\n",
      "4\n",
      "5\n",
      "6\n",
      "8\n",
      "9\n",
      "7\n"
     ]
    }
   ],
   "source": [
    "set1=[{1,2,3},{4,5,6},{7,8,9}]\n",
    "\n",
    "for element in set1:\n",
    "    for s in element:\n",
    "        print(s)"
   ]
  },
  {
   "cell_type": "code",
   "execution_count": 52,
   "id": "8d9e7394",
   "metadata": {},
   "outputs": [
    {
     "name": "stdout",
     "output_type": "stream",
     "text": [
      "{'mersedes', 'bmw', 'mustang'}\n"
     ]
    }
   ],
   "source": [
    "my_set={'mersedes','bmw','audi','mustang'}\n",
    "my_set.remove('audi')\n",
    "print(my_set)"
   ]
  },
  {
   "cell_type": "code",
   "execution_count": 55,
   "id": "2e0add5d",
   "metadata": {},
   "outputs": [
    {
     "name": "stdout",
     "output_type": "stream",
     "text": [
      "{'toyota', 'bmw', 'honda'}\n"
     ]
    }
   ],
   "source": [
    "my_set = {'bmw', 'audi', 'toyota', 'honda'}\n",
    "\n",
    "if 'audi' in my_set:\n",
    "    my_set.remove('audi')\n",
    "    print(my_set)"
   ]
  }
 ],
 "metadata": {
  "kernelspec": {
   "display_name": "Python 3",
   "language": "python",
   "name": "python3"
  },
  "language_info": {
   "codemirror_mode": {
    "name": "ipython",
    "version": 3
   },
   "file_extension": ".py",
   "mimetype": "text/x-python",
   "name": "python",
   "nbconvert_exporter": "python",
   "pygments_lexer": "ipython3",
   "version": "3.13.1"
  }
 },
 "nbformat": 4,
 "nbformat_minor": 5
}
